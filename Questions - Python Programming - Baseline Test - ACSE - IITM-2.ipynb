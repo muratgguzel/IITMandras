{
 "cells": [
  {
   "cell_type": "markdown",
   "metadata": {
    "id": "FicjAlQHA3a7"
   },
   "source": [
    "<img src=\"http://drive.google.com/uc?export=view&id=1tpOCamr9aWz817atPnyXus8w5gJ3mIts\" width=500px>\n",
    "\n",
    "Proprietary content. © Great Learning. All Rights Reserved. Unauthorized use or distribution prohibited."
   ]
  },
  {
   "cell_type": "markdown",
   "metadata": {
    "id": "fXEy7iu-A7bZ"
   },
   "source": [
    "---\n",
    "# Baseline Test - Advanced Certificate in Software Engineering - IIT Madras\n",
    "---"
   ]
  },
  {
   "cell_type": "markdown",
   "metadata": {
    "id": "xgK_eEALBWiE"
   },
   "source": [
    "# Instructions\n",
    "\n",
    "<font size=3>\n",
    "- Some parts of the code has already been written <br>\n",
    "- You have to write the code wherever you see <b><i>#### Add your code here ####</i></b> <br>\n",
    "- Marks are mentioned along with each cell <br>\n",
    "- <b> Do not edit any of the prefilled text/code part</b>\n",
    "    \n",
    "</font>"
   ]
  },
  {
   "cell_type": "markdown",
   "metadata": {
    "id": "wJpUPm5z9q8E"
   },
   "source": [
    "## Question 1 (10 Marks)"
   ]
  },
  {
   "cell_type": "markdown",
   "metadata": {
    "id": "sxwpHWch6Abz"
   },
   "source": [
    "Write a function to remove duplicate elements from the given list. \n",
    "\n",
    "`elements =  [2, 5, 7, 3, 33, 3, 5, 7]`\n",
    "\n",
    "***\n",
    "#### Sample Input/Output:\n",
    "---\n",
    "- Input: `elements =  [2, 5, 7, 3, 33, 3, 5, 7]`\n",
    "- Output: `Updated list after removing duplicate elements: [2, 5, 7, 3, 33]`\n",
    "---"
   ]
  },
  {
   "cell_type": "code",
   "execution_count": null,
   "metadata": {},
   "outputs": [],
   "source": [
    "list_with_duplicate_elements = [2, 5, 7, 3, 33, 3, 5, 7]\n",
    "\n",
    "def remove_duplicate_elements(elements): \n",
    "    temp_list = [] \n",
    "    #### Add your code here ####\n",
    "    return temp_list\n",
    "\n",
    "list_with_single_elements = remove_duplicate_elements()      \n",
    "print(\"List after removing duplicate elements: \", list_with_single_elements)"
   ]
  },
  {
   "cell_type": "markdown",
   "metadata": {
    "id": "jHFqgCRlH1yi"
   },
   "source": [
    "## Question 2 (10 Marks)"
   ]
  },
  {
   "cell_type": "markdown",
   "metadata": {
    "id": "7R8r0xWNH1yj"
   },
   "source": [
    "Write a function which will return minimum and maximum numbers from a given list of integers.\n",
    "\n",
    "`elements =  [12, 5, 17, 78, 2, 34]`\n",
    "\n",
    "***\n",
    "#### Sample Input/Output:\n",
    "---\n",
    "- Input: `elements =  [12, 5, 17, 78, 2, 34]`\n",
    "- Output: `Minimum Number : 2 and Maximum Number : 78`\n",
    "----"
   ]
  },
  {
   "cell_type": "code",
   "execution_count": null,
   "metadata": {
    "id": "iGwddKnyH1yk"
   },
   "outputs": [],
   "source": [
    "def min_max(elements):\n",
    "    min_number = elements[0]\n",
    "    max_number = elements[0]\n",
    "    \n",
    "    for i in range(1, len(elements)):\n",
    "        #### Add your code here ####\n",
    "     \n",
    "    return min_number, max_number\n",
    "\n",
    "elements = [12, 5, 17, 78, 2, 34]\n",
    "\n",
    "min_number, max_number = min_max(elements)\n",
    "\n",
    "print(f'Minimum Number : {min_number} and Maximum Number : {max_number}')"
   ]
  },
  {
   "cell_type": "markdown",
   "metadata": {
    "id": "hNI0k5KfH1yk"
   },
   "source": [
    "## Question 3 (10 Marks)"
   ]
  },
  {
   "cell_type": "markdown",
   "metadata": {
    "id": "B47Nv3fyH1yk"
   },
   "source": [
    "Write a function to search an element from the given list of integer elements. If the element is present in the list then return its index else return -1. \n",
    "\n",
    "`elements =  [12, 5, 17, 78, 2, 34], element = 17`\n",
    "\n",
    "***\n",
    "#### Sample Input/Output 1:\n",
    "---\n",
    "- Input: `elements =  [12, 5, 17, 78, 2, 34], element = 17`\n",
    "- Output: 2\n",
    "----\n",
    "#### Sample Input/Output 2:\n",
    "---\n",
    "- Input: `elements =  [12, 5, 17, 78, 2, 34], element = 19`\n",
    "- Output: -1\n",
    "----"
   ]
  },
  {
   "cell_type": "code",
   "execution_count": null,
   "metadata": {
    "id": "VtwpV5MAH1yl"
   },
   "outputs": [],
   "source": [
    "def search_element(elements, target_element):\n",
    "    index = -1\n",
    "    for i in range(0, len(elements)):\n",
    "        #### Add your code here ####\n",
    "    \n",
    "    return index\n",
    "\n",
    "\n",
    "elements =  [12, 5, 17, 78, 2, 34]\n",
    "element = 19\n",
    "\n",
    "print(search_element(elements, element))"
   ]
  },
  {
   "cell_type": "markdown",
   "metadata": {
    "id": "K92CtizF_8cH"
   },
   "source": [
    "## Question 4 (15 Marks)"
   ]
  },
  {
   "cell_type": "markdown",
   "metadata": {
    "id": "pqDwkK6AYkfE"
   },
   "source": [
    "Write a program that accepts an input from a user (consisting of any characters).  \n",
    "Using the input string, create a dictionary. The keys of this dictionary will be the characters of the input string.  \n",
    "the value of each key will be the number of times each key repeats in the input string.   \n",
    "Finally print the dictionary\n",
    "***\n",
    "#### Sample Input/Output:\n",
    "---\n",
    "**Sample 1**\n",
    "\n",
    "- Input: `Enter a string: AAABBCCCCC##**`\n",
    "- Output: `Characters with its count:  {'*': 2, 'C': 5, '#': 2, 'B': 2, 'A': 3}`\n",
    "\n",
    "---\n",
    "**Sample 2**\n",
    "\n",
    "- Input: `Enter a string: ''`\n",
    "- Output: `Characters with its count: {}`\n",
    "***"
   ]
  },
  {
   "cell_type": "code",
   "execution_count": null,
   "metadata": {
    "id": "EcCd41fUYkfE"
   },
   "outputs": [],
   "source": [
    "input_string = input('Enter a string: ')\n",
    "\n",
    "char_count = dict()\n",
    "#### Add your code here ####\n",
    "\n",
    "print('Characters with its count: ', char_count)"
   ]
  },
  {
   "cell_type": "markdown",
   "metadata": {
    "id": "0KjO7rZCAKTa"
   },
   "source": [
    "## Question 5 (25 Marks)"
   ]
  },
  {
   "cell_type": "markdown",
   "metadata": {
    "id": "Jbt1_vf3YkfG"
   },
   "source": [
    "Write python code to check if the given string is a Palindrome or not.\n",
    "\n",
    "***A palindrome is a string that reads the same backwards or forward.***  \n",
    "Example **\"abba\"** is a palindrome. **\"abbc\"** is not a palindrome.\n",
    "\n",
    "***\n",
    "#### Sample Input/Output:\n",
    "---\n",
    "**Sample 1**\n",
    "\n",
    "- Input: \"abba\"\n",
    "- Output: True\n",
    "\n",
    "---\n",
    "**Sample 2**\n",
    "\n",
    "- Input: \"abbc\"\n",
    "- Output: False\n",
    "***"
   ]
  },
  {
   "cell_type": "code",
   "execution_count": null,
   "metadata": {
    "id": "a3bChbpOYkfG"
   },
   "outputs": [],
   "source": [
    "def is_palindrome(input_string):\n",
    "    #### Add your code here ####\n",
    "\n",
    "\n",
    "input_string = \"abba\"\n",
    "print(is_palindrome(input_string))"
   ]
  }
 ],
 "metadata": {
  "colab": {
   "collapsed_sections": [],
   "name": "Questions - Python Programming - Baseline Test - ACSE - IITM.ipynb",
   "provenance": []
  },
  "kernelspec": {
   "display_name": "Python 3 (ipykernel)",
   "language": "python",
   "name": "python3"
  },
  "language_info": {
   "codemirror_mode": {
    "name": "ipython",
    "version": 3
   },
   "file_extension": ".py",
   "mimetype": "text/x-python",
   "name": "python",
   "nbconvert_exporter": "python",
   "pygments_lexer": "ipython3",
   "version": "3.10.4"
  },
  "varInspector": {
   "cols": {
    "lenName": 16,
    "lenType": 16,
    "lenVar": 40
   },
   "kernels_config": {
    "python": {
     "delete_cmd_postfix": "",
     "delete_cmd_prefix": "del ",
     "library": "var_list.py",
     "varRefreshCmd": "print(var_dic_list())"
    },
    "r": {
     "delete_cmd_postfix": ") ",
     "delete_cmd_prefix": "rm(",
     "library": "var_list.r",
     "varRefreshCmd": "cat(var_dic_list()) "
    }
   },
   "types_to_exclude": [
    "module",
    "function",
    "builtin_function_or_method",
    "instance",
    "_Feature"
   ],
   "window_display": false
  }
 },
 "nbformat": 4,
 "nbformat_minor": 1
}
