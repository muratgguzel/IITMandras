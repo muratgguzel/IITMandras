{
 "cells": [
  {
   "cell_type": "markdown",
   "metadata": {
    "id": "Gax5CR7V4nxB"
   },
   "source": [
    "<img src=\"http://drive.google.com/uc?export=view&id=1tpOCamr9aWz817atPnyXus8w5gJ3mIts\" width=500px>\n",
    "\n",
    "Proprietary content. © Great Learning. All Rights Reserved. Unauthorized use or distribution prohibited."
   ]
  },
  {
   "cell_type": "markdown",
   "metadata": {
    "id": "-vyZuvglzWqa"
   },
   "source": [
    "---\n",
    "# Python Practice Exercise - ACSE - IITM\n",
    "---"
   ]
  },
  {
   "cell_type": "markdown",
   "metadata": {
    "id": "2vBJsqQozWqb"
   },
   "source": [
    "<table align=\"left\">\n",
    "    <tr>\n",
    "        <td width=\"6%\">\n",
    "            <img src=\"question_icon.png\">\n",
    "        </td>\n",
    "        <td>\n",
    "            <div align=\"left\", style=\"font-size:120%\">\n",
    "                <font color=\"#21618C\">\n",
    "                    <b> 1. Write a program to retrieve the second element from the list\n",
    "                       </b>\n",
    "                </font>\n",
    "            </div>\n",
    "        </td>\n",
    "    </tr>\n",
    "</table>"
   ]
  },
  {
   "cell_type": "markdown",
   "metadata": {
    "id": "zcaSrcxM4bMO"
   },
   "source": [
    "- Use the list given below\n",
    "  - `[[10, 20,'a'], [30,'b',40], ['x', 50]]`"
   ]
  },
  {
   "cell_type": "code",
   "execution_count": null,
   "metadata": {
    "id": "u-t3ugShzWqd",
    "outputId": "93e7facd-6815-462c-bee0-b06b05c5b34a"
   },
   "outputs": [
    {
     "name": "stdout",
     "output_type": "stream",
     "text": [
      "[30, 'b', 40]\n"
     ]
    }
   ],
   "source": [
    "lis = [[10, 20,'a'], [30,'b',40], ['x', 50]]\n",
    "\n",
    "# give the positional index of an element\n",
    "print(lis[1])"
   ]
  },
  {
   "cell_type": "markdown",
   "metadata": {
    "id": "8L7royimzWql"
   },
   "source": [
    "<table align=\"left\">\n",
    "    <tr>\n",
    "        <td width=\"6%\">\n",
    "            <img src=\"question_icon.png\">\n",
    "        </td>\n",
    "        <td>\n",
    "            <div align=\"left\", style=\"font-size:120%\">\n",
    "                <font color=\"#21618C\">\n",
    "                    <b> 2. Write a program to exchange the values of two numbers (take input from user)</b>\n",
    "                </font>\n",
    "            </div>\n",
    "        </td>\n",
    "    </tr>\n",
    "</table>"
   ]
  },
  {
   "cell_type": "code",
   "execution_count": null,
   "metadata": {
    "id": "h85q3LpUzWqm",
    "outputId": "f32ca37f-e3af-41a8-c32d-30f30b9108f2"
   },
   "outputs": [
    {
     "name": "stdout",
     "output_type": "stream",
     "text": [
      "Enter value of num1: 45\n",
      "Enter value of num2: 14\n",
      "num1 is: 14  num2 is: 45\n"
     ]
    }
   ],
   "source": [
    "num1 = int(input(\"Enter value of num1: \"))\n",
    "num2 = int(input(\"Enter value of num2: \"))\n",
    "num1 = num1 + num2\n",
    "num2 = num1 - num2\n",
    "num1 = num1 - num2\n",
    "print(\"num1 is:\",num1 ,\" num2 is:\",num2)"
   ]
  },
  {
   "cell_type": "markdown",
   "metadata": {
    "id": "nyng4YknzWqq"
   },
   "source": [
    "<table align=\"left\">\n",
    "    <tr>\n",
    "        <td width=\"6%\">\n",
    "            <img src=\"question_icon.png\">\n",
    "        </td>\n",
    "        <td>\n",
    "            <div align=\"left\", style=\"font-size:120%\">\n",
    "                <font color=\"#21618C\">\n",
    "                    <b>3. Check whether the set X and Y are disjoint or not </b>\n",
    "                </font>\n",
    "            </div>\n",
    "        </td>\n",
    "    </tr>\n",
    "</table>"
   ]
  },
  {
   "cell_type": "markdown",
   "metadata": {
    "id": "IbtePFiYzWqr"
   },
   "source": []
  },
  {
   "cell_type": "code",
   "execution_count": null,
   "metadata": {
    "id": "N-yJBXabzWqs",
    "outputId": "ed47736b-654d-4f9e-c6e5-09f9f3d271d7"
   },
   "outputs": [
    {
     "name": "stdout",
     "output_type": "stream",
     "text": [
      "Are X and Y disjoint? False\n",
      "Intersection of X and Y: {34, 67, 12, 45, 23, 56, 89}\n"
     ]
    }
   ],
   "source": [
    "# Set X\n",
    "X = {4, 5, 11, 34, 4, 56, 44, 67, 67, 5, 12, 34, 16, 9, 22, 23, 56, 34, 33, 89, 78, 45, 33, 78, 34, 45, 12, 45, 56 }\n",
    "# Set Y\n",
    "Y = {41, 52, 63, 56, 67, 45, 99, 56, 45, 23, 45, 63, 45, 56, 45, 55, 56, 56, 12, 86, 67, 55, 56, 34, 89}\n",
    "\n",
    "print('Are X and Y disjoint?', X.isdisjoint(Y))\n",
    "if (X.isdisjoint(Y) == False):\n",
    "    print('Intersection of X and Y:', X.intersection(Y))\n",
    "else:\n",
    "    print('Sets are disjoint')"
   ]
  },
  {
   "cell_type": "markdown",
   "metadata": {
    "id": "vc8Cn9T1zWqx"
   },
   "source": [
    "<table align=\"left\">\n",
    "    <tr>\n",
    "        <td width=\"6%\">\n",
    "            <img src=\"question_icon.png\">\n",
    "        </td>\n",
    "        <td>\n",
    "            <div align=\"left\", style=\"font-size:120%\">\n",
    "                <font color=\"#21618C\">\n",
    "                    <b> 4. Write a program to retrieve the capital of 'Germany' from a given dictionary</b>\n",
    "                </font>\n",
    "            </div>\n",
    "        </td>\n",
    "    </tr>\n",
    "</table>\n"
   ]
  },
  {
   "cell_type": "markdown",
   "metadata": {
    "id": "qpD192ygzWqy"
   },
   "source": [
    "**Use the dictionary given below:**\n",
    "\n",
    "europe = { 'Spain': { 'Capital':'Madrid', 'Population':4.77 },\n",
    "           'France': { 'Capital':'Paris', 'Population':6.7 },\n",
    "           'Germany': { 'Capital':'Berlin', 'Population':8.28 },\n",
    "           'Norway': { 'Capital':'Oslo', 'Population':0.533 } }"
   ]
  },
  {
   "cell_type": "code",
   "execution_count": null,
   "metadata": {
    "id": "HOzky0rTzWqy",
    "outputId": "c9f2db3b-1880-45d6-c356-dfb48d004edf"
   },
   "outputs": [
    {
     "name": "stdout",
     "output_type": "stream",
     "text": [
      "Berlin\n"
     ]
    }
   ],
   "source": [
    "europe = { 'Spain': { 'Capital':'Madrid', 'Population':4.77 },\n",
    "           'France': { 'Capital':'Paris', 'Population':6.7 },\n",
    "           'Germany': { 'Capital':'Berlin', 'Population':8.28 },\n",
    "           'Norway': { 'Capital':'Oslo', 'Population':0.533 } }\n",
    "\n",
    "# retrieve the capital of Germany\n",
    "print (europe['Germany']['Capital'])"
   ]
  },
  {
   "cell_type": "markdown",
   "metadata": {
    "id": "8XxC1cNtzWq3"
   },
   "source": [
    "<table align=\"left\">\n",
    "    <tr>\n",
    "        <td width=\"6%\">\n",
    "            <img src=\"question_icon.png\">\n",
    "        </td>\n",
    "        <td>\n",
    "            <div align=\"left\", style=\"font-size:120%\">\n",
    "                <font color=\"#21618C\">\n",
    "                    <b>5. What will be the output of the following code? </b>\n",
    "                </font>\n",
    "            </div>\n",
    "        </td>\n",
    "    </tr>\n",
    "</table>"
   ]
  },
  {
   "cell_type": "markdown",
   "metadata": {
    "id": "GTQpeI5HzWq4"
   },
   "source": [
    "                    not(3>4), not(1&1)"
   ]
  },
  {
   "cell_type": "markdown",
   "metadata": {
    "id": "UDgXbWGazWq4"
   },
   "source": [
    "**Options:**<br>\n",
    "\n",
    "A. False, True<br>\n",
    "B. (False, True)<br>\n",
    "C. (True, False)<br>\n",
    "D. True, False"
   ]
  },
  {
   "cell_type": "markdown",
   "metadata": {
    "id": "E498PF9zzWq5"
   },
   "source": [
    "**Answer: C**"
   ]
  },
  {
   "cell_type": "markdown",
   "metadata": {
    "id": "I2TnE0TWzWq6"
   },
   "source": [
    "<table align=\"left\">\n",
    "    <tr>\n",
    "        <td width=\"6%\">\n",
    "            <img src=\"question_icon.png\">\n",
    "        </td>\n",
    "        <td>\n",
    "            <div align=\"left\", style=\"font-size:120%\">\n",
    "                <font color=\"#21618C\">\n",
    "                    <b>6. What will be the output of the following code?</b>\n",
    "                </font>\n",
    "            </div>\n",
    "        </td>\n",
    "    </tr>\n",
    "</table> "
   ]
  },
  {
   "cell_type": "markdown",
   "metadata": {
    "id": "Pj9gdXP8zWq7"
   },
   "source": [
    "                                 z = 'indiaismycountry'\n",
    "                                 x = z[:4]\n",
    "                                 y = z[4:]\n",
    "                                 x+y"
   ]
  },
  {
   "cell_type": "markdown",
   "metadata": {
    "id": "UoiseJ1czWq8"
   },
   "source": [
    "**Options:**<br>\n",
    "\n",
    "A. 'indi ismycountry'<br>\n",
    "B. 'indiismycountry'<br>\n",
    "C. 'indiaismycountry'<br>\n",
    "D. 'indi aismycountry'"
   ]
  },
  {
   "cell_type": "markdown",
   "metadata": {
    "id": "uqb1jGDpzWq9"
   },
   "source": [
    "**Answer: C**"
   ]
  },
  {
   "cell_type": "markdown",
   "metadata": {
    "id": "HWy8ge8dzWq-"
   },
   "source": [
    "<table align=\"left\">\n",
    "    <tr>\n",
    "        <td width=\"6%\">\n",
    "            <img src=\"question_icon.png\">\n",
    "        </td>\n",
    "        <td>\n",
    "            <div align=\"left\", style=\"font-size:120%\">\n",
    "                <font color=\"#21618C\">\n",
    "                    <b>7. What will be the output of the following code? </b>\n",
    "                </font>\n",
    "            </div>\n",
    "        </td>\n",
    "    </tr>\n",
    "</table>"
   ]
  },
  {
   "cell_type": "markdown",
   "metadata": {
    "id": "vayri_62zWq_"
   },
   "source": [
    "                             def func(x = 1, y = 2):\n",
    "                                 x = x + y\n",
    "                                 y += 1\n",
    "                                 print(x, y)\n",
    "                                 \n",
    "                             func(y = 2, x = 1)"
   ]
  },
  {
   "cell_type": "markdown",
   "metadata": {
    "id": "trt8jw3IzWrA"
   },
   "source": [
    "**Options:**<br>\n",
    "\n",
    "A. 3,3<br>\n",
    "B. 3,4<br>\n",
    "C. 3 4<br>\n",
    "D. 3 3"
   ]
  },
  {
   "cell_type": "markdown",
   "metadata": {
    "id": "pjLaCkidzWrA"
   },
   "source": [
    "**Answer: D**"
   ]
  },
  {
   "cell_type": "markdown",
   "metadata": {
    "id": "ZfbTU05PzWrC"
   },
   "source": [
    "<table align=\"left\">\n",
    "    <tr>\n",
    "        <td width=\"6%\">\n",
    "            <img src=\"question_icon.png\">\n",
    "        </td>\n",
    "        <td>\n",
    "            <div align=\"left\", style=\"font-size:120%\">\n",
    "                <font color=\"#21618C\">\n",
    "                    <b>8. What will be the output of the following code? </b>\n",
    "                </font>\n",
    "            </div>\n",
    "        </td>\n",
    "    </tr>\n",
    "</table>"
   ]
  },
  {
   "cell_type": "markdown",
   "metadata": {
    "id": "KiXTH5Y1zWrD"
   },
   "source": [
    "def greetPerson(*name):\n",
    "\n",
    "    print('Hello', name)\n",
    "\n",
    "greetPerson('Sara', 'Sana')"
   ]
  },
  {
   "cell_type": "markdown",
   "metadata": {
    "id": "Apx1-wG7zWrD"
   },
   "source": [
    "**Options:**<br>\n",
    "\n",
    "A. Hello ('Sara', 'Sana') <br>\n",
    "B. Hello, SaraHello, Sana<br>\n",
    "C. Syntax Error! greetPerson() can take only one argument.<br>\n",
    "D. Hello, Sara"
   ]
  },
  {
   "cell_type": "markdown",
   "metadata": {
    "id": "FFGsQ9p0zWrE"
   },
   "source": [
    "**Answer: A**"
   ]
  },
  {
   "cell_type": "markdown",
   "metadata": {
    "id": "FKhT4wp0zWrF"
   },
   "source": [
    "<table align=\"left\">\n",
    "    <tr>\n",
    "        <td width=\"6%\">\n",
    "            <img src=\"question_icon.png\">\n",
    "        </td>\n",
    "        <td>\n",
    "            <div align=\"left\", style=\"font-size:120%\">\n",
    "                <font color=\"#21618C\">\n",
    "                    <b>9. Define a function to check whether a number is in a range (1000,10000) or not </b>\n",
    "                </font>\n",
    "            </div>\n",
    "        </td>\n",
    "    </tr>\n",
    "</table>"
   ]
  },
  {
   "cell_type": "code",
   "execution_count": null,
   "metadata": {
    "id": "jxXluNAbzWrG",
    "outputId": "0bafe4fe-dc78-4bff-a20f-6b575d575684"
   },
   "outputs": [
    {
     "name": "stdout",
     "output_type": "stream",
     "text": [
      " The number is in the given range\n"
     ]
    }
   ],
   "source": [
    "def test_range(n):\n",
    "    if n in range(1000, 10000):\n",
    "        print( \" The number is in the given range\")\n",
    "    else :\n",
    "        print(\"The number is outside the given range.\")\n",
    "\n",
    "# call the function\n",
    "test_range(4591)"
   ]
  },
  {
   "cell_type": "markdown",
   "metadata": {
    "id": "i1xXtj7yzWrK"
   },
   "source": [
    "<table align=\"left\">\n",
    "    <tr>\n",
    "        <td width=\"6%\">\n",
    "            <img src=\"question_icon.png\">\n",
    "        </td>\n",
    "        <td>\n",
    "            <div align=\"left\", style=\"font-size:120%\">\n",
    "                <font color=\"#21618C\">\n",
    "                    <b>10. Write a python code to print pascal triangle upto 5 steps (using list) </b>\n",
    "                </font>\n",
    "            </div>\n",
    "        </td>\n",
    "    </tr>\n",
    "</table>"
   ]
  },
  {
   "cell_type": "code",
   "execution_count": null,
   "metadata": {
    "id": "hywZfHQPzWrL",
    "outputId": "2a3882dd-1680-4d2f-86e6-1928510eceaf"
   },
   "outputs": [
    {
     "name": "stdout",
     "output_type": "stream",
     "text": [
      "[1]\n",
      "[1, 1]\n",
      "[1, 2, 1]\n",
      "[1, 3, 3, 1]\n",
      "[1, 4, 6, 4, 1]\n"
     ]
    }
   ],
   "source": [
    "# pascal triangle upto 5 steps\n",
    "\n",
    "list=[1]\n",
    "for i in range(5):\n",
    "    print(list)\n",
    "    newlist=[]\n",
    "    newlist.append(list[0])\n",
    "    for i in range(len(list)-1):\n",
    "        newlist.append(list[i]+list[i+1])\n",
    "    newlist.append(list[-1])\n",
    "    list=newlist"
   ]
  },
  {
   "cell_type": "markdown",
   "metadata": {
    "id": "h2b6EKZ7zWrP"
   },
   "source": [
    "<table align=\"left\">\n",
    "    <tr>\n",
    "        <td width=\"6%\">\n",
    "            <img src=\"question_icon.png\">\n",
    "        </td>\n",
    "        <td>\n",
    "            <div align=\"left\", style=\"font-size:120%\">\n",
    "                <font color=\"#21618C\">\n",
    "                    <b> 11. Write a program to get square of first five positive integers (use List Comprehension)  </b>\n",
    "                </font>\n",
    "            </div>\n",
    "        </td>\n",
    "    </tr>\n",
    "</table>"
   ]
  },
  {
   "cell_type": "code",
   "execution_count": null,
   "metadata": {
    "id": "nK3jyeYLzWrQ",
    "outputId": "b8d9fa96-2cd7-4785-fb20-31cbe396b50a"
   },
   "outputs": [
    {
     "data": {
      "text/plain": [
       "[1, 4, 9, 16, 25]"
      ]
     },
     "execution_count": 7,
     "metadata": {
      "tags": []
     },
     "output_type": "execute_result"
    }
   ],
   "source": [
    "squares = [num**2 for num in range(1,6)]\n",
    "squares"
   ]
  },
  {
   "cell_type": "markdown",
   "metadata": {
    "id": "bAw3oKF7zWrV"
   },
   "source": [
    "<table align=\"left\">\n",
    "    <tr>\n",
    "        <td width=\"6%\">\n",
    "            <img src=\"question_icon.png\">\n",
    "        </td>\n",
    "        <td>\n",
    "            <div align=\"left\", style=\"font-size:120%\">\n",
    "                <font color=\"#21618C\">\n",
    "                    <b> 12. Write a program to reverse the digits of a positive integer (take input from user)</b>\n",
    "                </font>\n",
    "            </div>\n",
    "        </td>\n",
    "    </tr>\n",
    "</table>\n"
   ]
  },
  {
   "cell_type": "code",
   "execution_count": null,
   "metadata": {
    "id": "EJ_CVHp4zWrW",
    "outputId": "423123e2-0b63-4449-9c1e-5422b83647c1"
   },
   "outputs": [
    {
     "name": "stdout",
     "output_type": "stream",
     "text": [
      "Enter the number: 45\n",
      "Reverse of the number: 54\n"
     ]
    }
   ],
   "source": [
    "num = int(input(\"Enter the number: \"))\n",
    "reverse = 0\n",
    "while(num>0):\n",
    "    digit = num%10\n",
    "    reverse=reverse*10+digit\n",
    "    num = num//10\n",
    "print(\"Reverse of the number:\", reverse)"
   ]
  },
  {
   "cell_type": "markdown",
   "metadata": {
    "id": "UKg19Xr0zWra"
   },
   "source": [
    "**Explanation:**<br>\n",
    "1. User assigned value is stored in variable 'num'.<br>\n",
    "2. The while loop is used to continue the process until the number becomes 0 and the last digit of the number is obtained by using the modulus operator.<br>\n",
    "3. The last digit is then stored at the one’s place, second last at the ten’s place and so on.<br>\n",
    "4. The last digit is then removed by dividing the number with 10."
   ]
  },
  {
   "cell_type": "markdown",
   "metadata": {
    "id": "YI1rKaPuzWrb"
   },
   "source": [
    "<table align=\"left\">\n",
    "    <tr>\n",
    "        <td width=\"6%\">\n",
    "            <img src=\"question_icon.png\">\n",
    "        </td>\n",
    "        <td>\n",
    "            <div align=\"left\", style=\"font-size:120%\">\n",
    "                <font color=\"#21618C\">\n",
    "                    <b> 13. Remove number 3 from a given set </b>\n",
    "                </font>\n",
    "            </div>\n",
    "        </td>\n",
    "    </tr>\n",
    "</table>"
   ]
  },
  {
   "cell_type": "markdown",
   "metadata": {
    "id": "swfjb8T2zWrb"
   },
   "source": [
    "**Use the set below:**\n",
    "\n",
    "numbers = {2, 3, 4, 5}"
   ]
  },
  {
   "cell_type": "code",
   "execution_count": null,
   "metadata": {
    "id": "xq23Ex9SzWrc",
    "outputId": "41fdfa0e-3317-424a-b9da-5869a8233776"
   },
   "outputs": [
    {
     "name": "stdout",
     "output_type": "stream",
     "text": [
      "updated_numbers =  {2, 4, 5}\n"
     ]
    }
   ],
   "source": [
    "numbers = {2, 3, 4, 5}\n",
    "numbers.discard(3)\n",
    "print('updated_numbers = ', numbers)"
   ]
  },
  {
   "cell_type": "markdown",
   "metadata": {
    "id": "ALSHrEVvzWrm"
   },
   "source": [
    "<table align=\"left\">\n",
    "    <tr>\n",
    "        <td width=\"6%\">\n",
    "            <img src=\"question_icon.png\">\n",
    "        </td>\n",
    "        <td>\n",
    "            <div align=\"left\", style=\"font-size:120%\">\n",
    "                <font color=\"#21618C\">\n",
    "                    <b> 14. Create a tuple with single value '5'</b>\n",
    "                </font>\n",
    "            </div>\n",
    "        </td>\n",
    "    </tr>\n",
    "</table>\n"
   ]
  },
  {
   "cell_type": "code",
   "execution_count": null,
   "metadata": {
    "id": "0SlW2UBnzWrn",
    "outputId": "06db6d79-5881-41a1-e229-6579e6473b3f"
   },
   "outputs": [
    {
     "name": "stdout",
     "output_type": "stream",
     "text": [
      "Type of t: <class 'tuple'>\n"
     ]
    }
   ],
   "source": [
    "t = (5,)\n",
    "print('Type of t:', type(t))"
   ]
  },
  {
   "cell_type": "markdown",
   "metadata": {
    "id": "E4xyNOPSzWrq"
   },
   "source": [
    "<table align=\"left\">\n",
    "    <tr>\n",
    "        <td width=\"6%\">\n",
    "            <img src=\"question_icon.png\">\n",
    "        </td>\n",
    "        <td>\n",
    "            <div align=\"left\", style=\"font-size:120%\">\n",
    "                <font color=\"#21618C\">\n",
    "                    <b>15. Write a code to calculate perimeter of a square (take input for side of square from user)</b>\n",
    "                </font>\n",
    "            </div>\n",
    "        </td>\n",
    "    </tr>\n",
    "</table>"
   ]
  },
  {
   "cell_type": "code",
   "execution_count": null,
   "metadata": {
    "id": "ukIWY6JTzWrr",
    "outputId": "bad768fc-5203-4820-b4ad-25ed69cbf017"
   },
   "outputs": [
    {
     "name": "stdout",
     "output_type": "stream",
     "text": [
      "Enter length of side of a square : 5\n",
      "The perimeter of square of side 5 is 20.\n"
     ]
    }
   ],
   "source": [
    "side = int(input(\"Enter length of side of a square : \"))\n",
    "\n",
    "# write formula to calculate the perimeter \n",
    "perimeter = 4*side\n",
    "print(\"The perimeter of square of side %d is %d.\" %(side,perimeter))"
   ]
  },
  {
   "cell_type": "markdown",
   "metadata": {
    "id": "E7revIaGzWrw"
   },
   "source": [
    "<table align=\"left\">\n",
    "    <tr>\n",
    "        <td width=\"6%\">\n",
    "            <img src=\"question_icon.png\">\n",
    "        </td>\n",
    "        <td>\n",
    "            <div align=\"left\", style=\"font-size:120%\">\n",
    "                <font color=\"#21618C\">\n",
    "                    <b>16. Define a function to check whether the number is a palindrome or not (take input of number from user)</b>\n",
    "                </font>\n",
    "            </div>\n",
    "        </td>\n",
    "    </tr>\n",
    "</table> "
   ]
  },
  {
   "cell_type": "code",
   "execution_count": null,
   "metadata": {
    "id": "bVDaX2Q1zWry",
    "outputId": "2ef11faa-2547-4fda-8770-0c358c57aa96"
   },
   "outputs": [
    {
     "name": "stdout",
     "output_type": "stream",
     "text": [
      "Enter number:1241\n",
      "1241 is not palindrome\n"
     ]
    }
   ],
   "source": [
    "def palindrome(n):\n",
    "    temp = n\n",
    "    rev = 0\n",
    "    while n!=0:\n",
    "        rev = (rev *10)+int(n%10)\n",
    "        n=int(n/10)\n",
    "    if temp==rev:\n",
    "        print(temp,'is palindrome')\n",
    "    else:\n",
    "        print(temp,'is not palindrome')\n",
    "\n",
    "# call the function        \n",
    "n= int(input('Enter number:'))\n",
    "palindrome(n)"
   ]
  },
  {
   "cell_type": "markdown",
   "metadata": {
    "id": "e3lKxi0hzWr3"
   },
   "source": [
    "<table align=\"left\">\n",
    "    <tr>\n",
    "        <td width=\"6%\">\n",
    "            <img src=\"question_icon.png\">\n",
    "        </td>\n",
    "        <td>\n",
    "            <div align=\"left\", style=\"font-size:120%\">\n",
    "                <font color=\"#21618C\">\n",
    "                    <b>17. Define a function to concatenate two global strings </b>\n",
    "                </font>\n",
    "            </div>\n",
    "        </td>\n",
    "    </tr>\n",
    "</table>"
   ]
  },
  {
   "cell_type": "markdown",
   "metadata": {
    "id": "ZceS4FxmzWr3"
   },
   "source": [
    "**Use the strings:**\n",
    "    \n",
    "string1 = 'Hello'<br>\n",
    "string2 = 'World'"
   ]
  },
  {
   "cell_type": "code",
   "execution_count": null,
   "metadata": {
    "id": "oXseGtRIzWr4",
    "outputId": "4c15ac81-673b-4cef-f8eb-6884d7247eae"
   },
   "outputs": [
    {
     "name": "stdout",
     "output_type": "stream",
     "text": [
      "Hello World\n"
     ]
    }
   ],
   "source": [
    "string1 = 'Hello'\n",
    "string2 = 'World'\n",
    "\n",
    "def func():\n",
    "    global string\n",
    "    string = string1 + \" \" + string2\n",
    "    print(string)\n",
    "\n",
    "func()"
   ]
  },
  {
   "cell_type": "markdown",
   "metadata": {
    "id": "v0rMNBaBzWr8"
   },
   "source": [
    "<table align=\"left\">\n",
    "    <tr>\n",
    "        <td width=\"6%\">\n",
    "            <img src=\"question_icon.png\">\n",
    "        </td>\n",
    "        <td>\n",
    "            <div align=\"left\", style=\"font-size:120%\">\n",
    "                <font color=\"#21618C\">\n",
    "                    <b>18. What will be the output of the following code? </b>\n",
    "                </font>\n",
    "            </div>\n",
    "        </td>\n",
    "    </tr>\n",
    "</table>"
   ]
  },
  {
   "cell_type": "markdown",
   "metadata": {
    "id": "ZJoKxdWTzWr9"
   },
   "source": [
    " result = lambda x: x <i>X</i> x <br>\n",
    " print(result(5))"
   ]
  },
  {
   "cell_type": "markdown",
   "metadata": {
    "id": "_a_s5i6kzWr-"
   },
   "source": [
    "**Options:**<br>\n",
    "                                    \n",
    "A. lambda x: x <i>X</i> x<br>\n",
    "B. 25<br>\n",
    "C. 5 . 5 <br>\n",
    "D. lambda 5: 5 <i>X</i> 5"
   ]
  },
  {
   "cell_type": "markdown",
   "metadata": {
    "id": "OK2QvKlPzWr_"
   },
   "source": [
    "**Answer: B**"
   ]
  },
  {
   "cell_type": "markdown",
   "metadata": {
    "id": "Y6d87f90zWr_"
   },
   "source": [
    "<table align=\"left\">\n",
    "    <tr>\n",
    "        <td width=\"6%\">\n",
    "            <img src=\"question_icon.png\">\n",
    "        </td>\n",
    "        <td>\n",
    "            <div align=\"left\", style=\"font-size:120%\">\n",
    "                <font color=\"#21618C\">\n",
    "                    <b>19. Write a program to count the number of even and odd numbers from a given range of numbers </b>\n",
    "                </font>\n",
    "            </div>\n",
    "        </td>\n",
    "    </tr>\n",
    "</table>"
   ]
  },
  {
   "cell_type": "markdown",
   "metadata": {
    "id": "icQwctDGzWsA"
   },
   "source": [
    "**Use the range:**<br>\n",
    "\n",
    "range(34356, 362373)"
   ]
  },
  {
   "cell_type": "code",
   "execution_count": null,
   "metadata": {
    "id": "3wUTLygEzWsB",
    "outputId": "b875e3c2-1032-4de0-88e8-6eb66ee1c415"
   },
   "outputs": [
    {
     "name": "stdout",
     "output_type": "stream",
     "text": [
      "Number of even numbers : 450\n",
      "Number of odd numbers : 449\n"
     ]
    }
   ],
   "source": [
    "# set the range  \n",
    "numbers = range(100,999 ) \n",
    "\n",
    "# set the count of even and odd numbers to 0\n",
    "count_odd = 0\n",
    "count_even = 0\n",
    "for x in numbers:\n",
    "        if not x % 2:\n",
    "            count_even+=1\n",
    "        else:\n",
    "            count_odd+=1\n",
    "            \n",
    "print(\"Number of even numbers :\",count_even)\n",
    "print(\"Number of odd numbers :\",count_odd)"
   ]
  },
  {
   "cell_type": "markdown",
   "metadata": {
    "id": "rns-nT9IzWsE"
   },
   "source": [
    "<table align=\"left\">\n",
    "    <tr>\n",
    "        <td width=\"6%\">\n",
    "            <img src=\"question_icon.png\">\n",
    "        </td>\n",
    "        <td>\n",
    "            <div align=\"left\", style=\"font-size:120%\">\n",
    "                <font color=\"#21618C\">\n",
    "                    <b>20. Write a program to calculate square of number from 0 to 99 </b>\n",
    "                </font>\n",
    "            </div>\n",
    "        </td>\n",
    "    </tr>\n",
    "</table>"
   ]
  },
  {
   "cell_type": "code",
   "execution_count": null,
   "metadata": {
    "id": "QEFdsxTbzWsF",
    "outputId": "65acd968-397e-4eb0-c395-c7ee44087048"
   },
   "outputs": [
    {
     "data": {
      "text/plain": [
       "[0,\n",
       " 1,\n",
       " 4,\n",
       " 9,\n",
       " 16,\n",
       " 25,\n",
       " 36,\n",
       " 49,\n",
       " 64,\n",
       " 81,\n",
       " 100,\n",
       " 121,\n",
       " 144,\n",
       " 169,\n",
       " 196,\n",
       " 225,\n",
       " 256,\n",
       " 289,\n",
       " 324,\n",
       " 361,\n",
       " 400,\n",
       " 441,\n",
       " 484,\n",
       " 529,\n",
       " 576,\n",
       " 625,\n",
       " 676,\n",
       " 729,\n",
       " 784,\n",
       " 841,\n",
       " 900,\n",
       " 961,\n",
       " 1024,\n",
       " 1089,\n",
       " 1156,\n",
       " 1225,\n",
       " 1296,\n",
       " 1369,\n",
       " 1444,\n",
       " 1521,\n",
       " 1600,\n",
       " 1681,\n",
       " 1764,\n",
       " 1849,\n",
       " 1936,\n",
       " 2025,\n",
       " 2116,\n",
       " 2209,\n",
       " 2304,\n",
       " 2401,\n",
       " 2500,\n",
       " 2601,\n",
       " 2704,\n",
       " 2809,\n",
       " 2916,\n",
       " 3025,\n",
       " 3136,\n",
       " 3249,\n",
       " 3364,\n",
       " 3481,\n",
       " 3600,\n",
       " 3721,\n",
       " 3844,\n",
       " 3969,\n",
       " 4096,\n",
       " 4225,\n",
       " 4356,\n",
       " 4489,\n",
       " 4624,\n",
       " 4761,\n",
       " 4900,\n",
       " 5041,\n",
       " 5184,\n",
       " 5329,\n",
       " 5476,\n",
       " 5625,\n",
       " 5776,\n",
       " 5929,\n",
       " 6084,\n",
       " 6241,\n",
       " 6400,\n",
       " 6561,\n",
       " 6724,\n",
       " 6889,\n",
       " 7056,\n",
       " 7225,\n",
       " 7396,\n",
       " 7569,\n",
       " 7744,\n",
       " 7921,\n",
       " 8100,\n",
       " 8281,\n",
       " 8464,\n",
       " 8649,\n",
       " 8836,\n",
       " 9025,\n",
       " 9216,\n",
       " 9409,\n",
       " 9604,\n",
       " 9801]"
      ]
     },
     "execution_count": 1,
     "metadata": {
      "tags": []
     },
     "output_type": "execute_result"
    }
   ],
   "source": [
    "# use lambda function\n",
    "list(map((lambda x:x**2), range(100)))"
   ]
  },
  {
   "cell_type": "markdown",
   "metadata": {
    "id": "r-rI7_M4zWsJ"
   },
   "source": [
    "<table align=\"left\">\n",
    "    <tr>\n",
    "        <td width=\"6%\">\n",
    "            <img src=\"question_icon.png\">\n",
    "        </td>\n",
    "        <td>\n",
    "            <div align=\"left\", style=\"font-size:120%\">\n",
    "                <font color=\"#21618C\">\n",
    "                    <b>21. Write a program to get the sum of all elements in the list  </b>\n",
    "                </font>\n",
    "            </div>\n",
    "        </td>\n",
    "    </tr>\n",
    "</table>"
   ]
  },
  {
   "cell_type": "markdown",
   "metadata": {
    "id": "OHou0bJLzWsK"
   },
   "source": [
    "**Use the list given below:**\n",
    "\n",
    "list1 = [11, 22, 33, 44, 55]"
   ]
  },
  {
   "cell_type": "code",
   "execution_count": null,
   "metadata": {
    "id": "GJHWqg3FzWsL",
    "outputId": "c9d52938-9da9-4bc3-8944-4767a4d408b7"
   },
   "outputs": [
    {
     "name": "stdout",
     "output_type": "stream",
     "text": [
      "Sum = 110\n"
     ]
    }
   ],
   "source": [
    "list1 = [11, 22, 33, 44, 55]\n",
    "\n",
    "# initially set the sum to 0\n",
    "sum=0\n",
    "for i in range(len(list1)-1):\n",
    "       sum = sum + list1[i]\n",
    "print('Sum =',sum)"
   ]
  },
  {
   "cell_type": "markdown",
   "metadata": {
    "id": "WEwsCWvFzWsS"
   },
   "source": [
    "<table align=\"left\">\n",
    "    <tr>\n",
    "        <td width=\"6%\">\n",
    "            <img src=\"question_icon.png\">\n",
    "        </td>\n",
    "        <td>\n",
    "            <div align=\"left\", style=\"font-size:120%\">\n",
    "                <font color=\"#21618C\">\n",
    "                    <b> 22. Write a program to read height in centimeters and then convert it to feet and inches (take input for height from user)</b>\n",
    "                </font>\n",
    "            </div>\n",
    "        </td>\n",
    "    </tr>\n",
    "</table>\n"
   ]
  },
  {
   "cell_type": "code",
   "execution_count": null,
   "metadata": {
    "id": "3bOYpxHvzWsT",
    "outputId": "8d12bc29-2489-4ed7-c1d8-e564cf41ba8d"
   },
   "outputs": [
    {
     "name": "stdout",
     "output_type": "stream",
     "text": [
      "Enter the height in centimeters:168\n",
      "The length in inches 66.14\n",
      "The length in feet 5.51\n"
     ]
    }
   ],
   "source": [
    "height = int(input(\"Enter the height in centimeters:\"))\n",
    "\n",
    "# write the conversion formulae\n",
    "inches = 0.3937*height\n",
    "feet = 0.0328*height\n",
    "print(\"The length in inches\", round(inches,2))\n",
    "print(\"The length in feet\", round(feet,2))"
   ]
  },
  {
   "cell_type": "markdown",
   "metadata": {
    "id": "ELRSpPK-zWsY"
   },
   "source": [
    "<table align=\"left\">\n",
    "    <tr>\n",
    "        <td width=\"6%\">\n",
    "            <img src=\"question_icon.png\">\n",
    "        </td>\n",
    "        <td>\n",
    "            <div align=\"left\", style=\"font-size:120%\">\n",
    "                <font color=\"#21618C\">\n",
    "                    <b> 23. Which of the following code creates an empty set </b>\n",
    "                </font>\n",
    "            </div>\n",
    "        </td>\n",
    "    </tr>\n",
    "</table>"
   ]
  },
  {
   "cell_type": "markdown",
   "metadata": {
    "id": "h9VNvI0nzWsZ"
   },
   "source": [
    "**Options:**<br>\n",
    "\n",
    "A. x = set()<br>\n",
    "B. x = set([])<br>\n",
    "C. x = set({})<br>\n",
    "D. All of the above"
   ]
  },
  {
   "cell_type": "markdown",
   "metadata": {
    "id": "IGHUBP0SzWsa"
   },
   "source": [
    "**Answer: A**<br>\n",
    "**Exaplanation:** set() is a function used to create sets"
   ]
  },
  {
   "cell_type": "markdown",
   "metadata": {
    "id": "yzKvVST-zWsb"
   },
   "source": [
    "<table align=\"left\">\n",
    "    <tr>\n",
    "        <td width=\"6%\">\n",
    "            <img src=\"question_icon.png\">\n",
    "        </td>\n",
    "        <td>\n",
    "            <div align=\"left\", style=\"font-size:120%\">\n",
    "                <font color=\"#21618C\">\n",
    "                    <b> 24. Write a code to multiply two given lists </b>\n",
    "                </font>\n",
    "            </div>\n",
    "        </td>\n",
    "    </tr>\n",
    "</table>\n"
   ]
  },
  {
   "cell_type": "markdown",
   "metadata": {
    "id": "h-nAzza2zWsb"
   },
   "source": [
    "**Use the lists below:**\n",
    "\n",
    "A = [1, 4, 5, 7, 3]\n",
    "\n",
    "B = [2, 0, 8, -3]"
   ]
  },
  {
   "cell_type": "code",
   "execution_count": null,
   "metadata": {
    "id": "1tF4Uzz1zWsc",
    "outputId": "677f62da-d269-46e9-a05a-e5c614ff8784"
   },
   "outputs": [
    {
     "data": {
      "text/plain": [
       "[2, 0, 40, -21]"
      ]
     },
     "execution_count": 4,
     "metadata": {
      "tags": []
     },
     "output_type": "execute_result"
    }
   ],
   "source": [
    "A = [1, 4, 5, 7, 3]\n",
    "B = [2, 0, 8, -3]\n",
    "\n",
    "product = [a*b for a,b in zip(list(A),list(B))]\n",
    "product"
   ]
  },
  {
   "cell_type": "markdown",
   "metadata": {
    "id": "CK5U2Q4czWsh"
   },
   "source": [
    "<table align=\"left\">\n",
    "    <tr>\n",
    "        <td width=\"6%\">\n",
    "            <img src=\"question_icon.png\">\n",
    "        </td>\n",
    "        <td>\n",
    "            <div align=\"left\", style=\"font-size:120%\">\n",
    "                <font color=\"#21618C\">\n",
    "                    <b>25. Given x = True and y = False, obtain<br><br>\n",
    "                       a.  x and y<br>\n",
    "                       b.  x or y<br>\n",
    "                       c.  not x<br>\n",
    "                       d.    not y\n",
    "                        </b>\n",
    "                </font>\n",
    "            </div>\n",
    "        </td>\n",
    "    </tr>\n",
    "</table>"
   ]
  },
  {
   "cell_type": "markdown",
   "metadata": {
    "id": "fasOM_HozWsi"
   },
   "source": [
    "**a. x and y**"
   ]
  },
  {
   "cell_type": "code",
   "execution_count": null,
   "metadata": {
    "id": "f4U10vlUzWsj",
    "outputId": "7030a9b1-3d99-4e32-9a04-a658e54f4462"
   },
   "outputs": [
    {
     "name": "stdout",
     "output_type": "stream",
     "text": [
      "x and y: False\n"
     ]
    }
   ],
   "source": [
    "x = True\n",
    "y = False\n",
    "\n",
    "print('x and y:',  x and y)"
   ]
  },
  {
   "cell_type": "markdown",
   "metadata": {
    "id": "uqc6TCivzWsp"
   },
   "source": [
    "**b. x or y**"
   ]
  },
  {
   "cell_type": "code",
   "execution_count": null,
   "metadata": {
    "id": "CEpL7LSPzWsp",
    "outputId": "b04eebc0-990d-485b-f4a8-4e80ce056089"
   },
   "outputs": [
    {
     "name": "stdout",
     "output_type": "stream",
     "text": [
      "x or y: True\n"
     ]
    }
   ],
   "source": [
    "x = True\n",
    "y = False\n",
    "\n",
    "print('x or y:',  x or y)"
   ]
  },
  {
   "cell_type": "markdown",
   "metadata": {
    "id": "3N0I3KByzWsv"
   },
   "source": [
    "**c. not x**"
   ]
  },
  {
   "cell_type": "code",
   "execution_count": null,
   "metadata": {
    "id": "CxTmXk_yzWsy",
    "outputId": "1ec88c02-ac31-4d38-a68b-d4016d192fda"
   },
   "outputs": [
    {
     "name": "stdout",
     "output_type": "stream",
     "text": [
      "not x: False\n"
     ]
    }
   ],
   "source": [
    "x = True\n",
    "y = False\n",
    "\n",
    "print('not x:',  not x)"
   ]
  },
  {
   "cell_type": "markdown",
   "metadata": {
    "id": "PIsiesVSzWs6"
   },
   "source": [
    "**d. not y**"
   ]
  },
  {
   "cell_type": "code",
   "execution_count": null,
   "metadata": {
    "id": "PvhEjkKzzWs6",
    "outputId": "90a8d614-5a39-4259-9e2e-cdbaa828b16a"
   },
   "outputs": [
    {
     "name": "stdout",
     "output_type": "stream",
     "text": [
      "not y: True\n"
     ]
    }
   ],
   "source": [
    "x = True\n",
    "y = False\n",
    "\n",
    "print('not y:',  not y)"
   ]
  },
  {
   "cell_type": "markdown",
   "metadata": {
    "id": "zrmNsfEzzWs-"
   },
   "source": [
    "<table align=\"left\">\n",
    "    <tr>\n",
    "        <td width=\"6%\">\n",
    "            <img src=\"question_icon.png\">\n",
    "        </td>\n",
    "        <td>\n",
    "            <div align=\"left\", style=\"font-size:120%\">\n",
    "                <font color=\"#21618C\">\n",
    "                    <b>26. Write a function to reverse a string (take string input from user)</b>\n",
    "                </font>\n",
    "            </div>\n",
    "        </td>\n",
    "    </tr>\n",
    "</table> "
   ]
  },
  {
   "cell_type": "code",
   "execution_count": null,
   "metadata": {
    "id": "YTJXD8yjzWs_",
    "outputId": "0105a133-91c3-4e63-aaf9-292892450751"
   },
   "outputs": [
    {
     "name": "stdout",
     "output_type": "stream",
     "text": [
      "Enter string:Data\n",
      "ataD\n"
     ]
    }
   ],
   "source": [
    "def reverse(string):\n",
    "    # set the empty string\n",
    "    rs=''\n",
    "    for i in string:\n",
    "        rs = i+rs\n",
    "    print(rs)\n",
    "    \n",
    "# call the function\n",
    "string = input('Enter string:')\n",
    "reverse(string)"
   ]
  },
  {
   "cell_type": "markdown",
   "metadata": {
    "id": "HoTikgJCzWtG"
   },
   "source": [
    "<table align=\"left\">\n",
    "    <tr>\n",
    "        <td width=\"6%\">\n",
    "            <img src=\"question_icon.png\">\n",
    "        </td>\n",
    "        <td>\n",
    "            <div align=\"left\", style=\"font-size:120%\">\n",
    "                <font color=\"#21618C\">\n",
    "                    <b>27. What will be the output of the following code? </b>\n",
    "                </font>\n",
    "            </div>\n",
    "        </td>\n",
    "    </tr>\n",
    "</table>"
   ]
  },
  {
   "cell_type": "markdown",
   "metadata": {
    "id": "qpXgihAAzWtH"
   },
   "source": [
    "                                   list1 = [1, 2, 3, 4]\n",
    "                                   list2 = [100, 200, 300, 400]\n",
    "\n",
    "                                   output = list(map(lambda x, y: x+y , list1, list2))\n",
    "                                   output"
   ]
  },
  {
   "cell_type": "markdown",
   "metadata": {
    "id": "FTltw2azzWtI"
   },
   "source": [
    "**Options:**<br>\n",
    "\n",
    "A. 101, 202, 303, 404<br>\n",
    "B. [100, 300, 200, 100, 1, 2, 3, 4 ]<br>\n",
    "C. [1, 2, 3, 4, 100, 200, 300, 400]<br>\n",
    "D. [101, 202, 303, 404]<br>"
   ]
  },
  {
   "cell_type": "markdown",
   "metadata": {
    "id": "L1o9NbQFzWtL"
   },
   "source": [
    "**Answer: D**"
   ]
  },
  {
   "cell_type": "markdown",
   "metadata": {
    "id": "8C1lGxxQzWtM"
   },
   "source": [
    "<table align=\"left\">\n",
    "    <tr>\n",
    "        <td width=\"6%\">\n",
    "            <img src=\"question_icon.png\">\n",
    "        </td>\n",
    "        <td>\n",
    "            <div align=\"left\", style=\"font-size:120%\">\n",
    "                <font color=\"#21618C\">\n",
    "                    <b>28. What will be the output of the following code? </b>\n",
    "                </font>\n",
    "            </div>\n",
    "        </td>\n",
    "    </tr>\n",
    "</table>"
   ]
  },
  {
   "cell_type": "markdown",
   "metadata": {
    "id": "FcrjGbsizWtP"
   },
   "source": [
    "                        numbers = [1, 3, 6]\n",
    "                        newNumbers = tuple(map(lambda x: x , numbers))\n",
    "                        print(newNumbers)"
   ]
  },
  {
   "cell_type": "markdown",
   "metadata": {
    "id": "CyzO7FpWzWtQ"
   },
   "source": [
    "**Options:**<br>\n",
    "\n",
    "A. [1, 3, 6]<br>\n",
    "B. (1, 3, 6)<br>\n",
    "C. [2, 6, 12]<br>\n",
    "D. (2, 6, 12)"
   ]
  },
  {
   "cell_type": "markdown",
   "metadata": {
    "id": "FJam8D5vzWtR"
   },
   "source": [
    "**Answer: B**"
   ]
  },
  {
   "cell_type": "markdown",
   "metadata": {
    "id": "xPOumI7uzWtS"
   },
   "source": [
    "<table align=\"left\">\n",
    "    <tr>\n",
    "        <td width=\"6%\">\n",
    "            <img src=\"question_icon.png\">\n",
    "        </td>\n",
    "        <td>\n",
    "            <div align=\"left\", style=\"font-size:120%\">\n",
    "                <font color=\"#21618C\">\n",
    "                    <b>29. What will be the output of the following code? </b>\n",
    "                </font>\n",
    "            </div>\n",
    "        </td>\n",
    "    </tr>\n",
    "</table>"
   ]
  },
  {
   "cell_type": "markdown",
   "metadata": {
    "id": "0qmVq8NkzWtU"
   },
   "source": [
    "                                 list1=[26621, 228727, 32727872, (4182982)]\n",
    "                                 list2=list1.copy()\n",
    "                                 list2"
   ]
  },
  {
   "cell_type": "markdown",
   "metadata": {
    "id": "5ukifM_bzWtW"
   },
   "source": [
    "**Options:**<br>\n",
    "\n",
    "A. [26621, 228727, 32727872, 4182982]<br>\n",
    "B. [26621, 228727, 32727872, (4182982)]<br>\n",
    "C. 26621, 228727, 32727872, 4182982<br>\n",
    "D. None"
   ]
  },
  {
   "cell_type": "markdown",
   "metadata": {
    "id": "ucC61Sj9zWtY"
   },
   "source": [
    "**Answer: A**"
   ]
  },
  {
   "cell_type": "markdown",
   "metadata": {
    "id": "zlJms_eEzWtZ"
   },
   "source": [
    " \n",
    "  <table align=\"left\">\n",
    "    <tr>\n",
    "        <td width=\"6%\">\n",
    "            <img src=\"question_icon.png\">\n",
    "        </td>\n",
    "        <td>\n",
    "            <div align=\"left\", style=\"font-size:120%\">\n",
    "                <font color=\"#21618C\">\n",
    "                    <b>30. Write a function to find whether a number is a power of two or not (take input from user)</b>\n",
    "                </font>\n",
    "            </div>\n",
    "        </td>\n",
    "    </tr>\n",
    "</table>"
   ]
  },
  {
   "cell_type": "code",
   "execution_count": null,
   "metadata": {
    "id": "tqx023DmzWta",
    "outputId": "f458eba1-1002-4be4-be34-c324df3a519d"
   },
   "outputs": [
    {
     "name": "stdout",
     "output_type": "stream",
     "text": [
      "Enter a number: 24\n",
      "24 is not a power of two.\n"
     ]
    }
   ],
   "source": [
    "def power(n):\n",
    "    if n <= 0:\n",
    "        return False\n",
    "    else:\n",
    "        return n & (n - 1) == 0\n",
    "n = int(input('Enter a number: '))\n",
    " \n",
    "if power(n):\n",
    "    print(n ,\"is a power of two.\")\n",
    "else:\n",
    "    print(n,\"is not a power of two.\" )"
   ]
  },
  {
   "cell_type": "markdown",
   "metadata": {
    "id": "y_9cYrsizWtj"
   },
   "source": [
    "<table align=\"left\">\n",
    "    <tr>\n",
    "        <td width=\"6%\">\n",
    "            <img src=\"question_icon.png\">\n",
    "        </td>\n",
    "        <td>\n",
    "            <div align=\"left\", style=\"font-size:120%\">\n",
    "                <font color=\"#21618C\">\n",
    "                    <b>31. Write a function to create a list 5 numbers and find the largest number in that list (take input from user)</b>\n",
    "                </font>\n",
    "            </div>\n",
    "        </td>\n",
    "    </tr>\n",
    "</table>"
   ]
  },
  {
   "cell_type": "code",
   "execution_count": null,
   "metadata": {
    "id": "d50BfCvozWtj",
    "outputId": "e7ef9c08-5cc3-4c10-8e00-c9171f38d4b9"
   },
   "outputs": [
    {
     "name": "stdout",
     "output_type": "stream",
     "text": [
      "Enter nos:51\n",
      "Enter nos:12\n",
      "Enter nos:45\n",
      "Enter nos:74\n",
      "Enter nos:51\n",
      "Largest no is: 74\n"
     ]
    }
   ],
   "source": [
    "# create an empty list\n",
    "list_of_numbers = []\n",
    "\n",
    "for i in range (5):\n",
    "    a = int(input(\"Enter nos:\"))\n",
    "    list_of_numbers.append(a)\n",
    "list_of_numbers.sort()\n",
    "print(\"Largest no is:\", list_of_numbers[-1])"
   ]
  },
  {
   "cell_type": "markdown",
   "metadata": {
    "id": "56xlCmHOzWtq"
   },
   "source": [
    "<table align=\"left\">\n",
    "    <tr>\n",
    "        <td width=\"6%\">\n",
    "            <img src=\"question_icon.png\">\n",
    "        </td>\n",
    "        <td>\n",
    "            <div align=\"left\", style=\"font-size:120%\">\n",
    "                <font color=\"#21618C\">\n",
    "                    <b> 32. Write a program that takes a year and checks whether it is a leap year or not (take input for year from user)</b>\n",
    "                </font>\n",
    "            </div>\n",
    "        </td>\n",
    "    </tr>\n",
    "</table>"
   ]
  },
  {
   "cell_type": "code",
   "execution_count": null,
   "metadata": {
    "id": "rhjiwxt2zWtr",
    "outputId": "aa3e71c9-1f8c-4b44-eff3-8d2796788c42"
   },
   "outputs": [
    {
     "name": "stdout",
     "output_type": "stream",
     "text": [
      "Enter year:1996\n",
      "1996  is a leap year\n"
     ]
    }
   ],
   "source": [
    "# input the year\n",
    "yr = int(input(\"Enter year:\"))\n",
    "\n",
    "# give conditions to check the leap year\n",
    "if(yr%4 == 0 and yr%100 != 0 or yr%400 == 0):\n",
    "    print(yr,\" is a leap year\")\n",
    "else:\n",
    "    print(yr,\"is not a leap year\")"
   ]
  },
  {
   "cell_type": "markdown",
   "metadata": {
    "id": "jl_wc_MxzWtv"
   },
   "source": [
    "**Explanation:** The 'if statement' checks if the given year is a multiple of 4 but is not a multiple of 100 or if it is a multiple of 400. (not every year that is a multiple of 4, is a leap year)"
   ]
  },
  {
   "cell_type": "markdown",
   "metadata": {
    "id": "sLVDjvpJzWtv"
   },
   "source": [
    "<table align=\"left\">\n",
    "    <tr>\n",
    "        <td width=\"6%\">\n",
    "            <img src=\"question_icon.png\">\n",
    "        </td>\n",
    "        <td>\n",
    "            <div align=\"left\", style=\"font-size:120%\">\n",
    "                <font color=\"#21618C\">\n",
    "                    <b> 33. How will you add a new element to the given set? </b>\n",
    "                </font>\n",
    "            </div>\n",
    "        </td>\n",
    "    </tr>\n",
    "</table>"
   ]
  },
  {
   "cell_type": "markdown",
   "metadata": {
    "id": "f4tUNcRkzWtw"
   },
   "source": [
    "**Use the below set:**\n",
    "\n",
    "color_set = set(['red', 'orange', 'yellow'])"
   ]
  },
  {
   "cell_type": "markdown",
   "metadata": {
    "id": "ylSJLXN3zWtx"
   },
   "source": [
    "**Options:**<br>\n",
    "\n",
    "A. color_set.add(\"green\")<br>\n",
    "B. color_set.add{(\"green\")}<br>\n",
    "C. color_set.add([\"green\"])<br>\n",
    "D. None of the above"
   ]
  },
  {
   "cell_type": "markdown",
   "metadata": {
    "id": "fbOkHbfbzWty"
   },
   "source": [
    "**Answer: A**"
   ]
  },
  {
   "cell_type": "markdown",
   "metadata": {
    "id": "p40v7YMYzWtz"
   },
   "source": [
    "<table align=\"left\">\n",
    "    <tr>\n",
    "        <td width=\"6%\">\n",
    "            <img src=\"question_icon.png\">\n",
    "        </td>\n",
    "        <td>\n",
    "            <div align=\"left\", style=\"font-size:120%\">\n",
    "                <font color=\"#21618C\">\n",
    "                    <b>34. Define a function to calculate an average of 2 numbers (take input from user) </b>\n",
    "                </font>\n",
    "            </div>\n",
    "        </td>\n",
    "    </tr>\n",
    "</table>"
   ]
  },
  {
   "cell_type": "code",
   "execution_count": null,
   "metadata": {
    "id": "NOTUJk1lzWt1",
    "outputId": "0ad04c85-ffbf-4d7e-9af9-862193b5c4d6"
   },
   "outputs": [
    {
     "name": "stdout",
     "output_type": "stream",
     "text": [
      "Average= 50.5\n"
     ]
    }
   ],
   "source": [
    "# define a function\n",
    "def avg(a,b):\n",
    "    print('Average=',(a+b)/2)\n",
    "\n",
    "# call the function\n",
    "avg(17,84)"
   ]
  },
  {
   "cell_type": "markdown",
   "metadata": {
    "id": "E_MlhmFvzWt8"
   },
   "source": [
    "<table align=\"left\">\n",
    "    <tr>\n",
    "        <td width=\"6%\">\n",
    "            <img src=\"question_icon.png\">\n",
    "        </td>\n",
    "        <td>\n",
    "            <div align=\"left\", style=\"font-size:120%\">\n",
    "                <font color=\"#21618C\">\n",
    "                    <b>35. Compute the arithmetic operations using a = 34 and b = 564 <br> <br>\n",
    "                        a.  Addition of numbers  <br>\n",
    "                        b.  Subtraction of numbers<br>\n",
    "                        c.  Multiplication of numbers <br>\n",
    "                        d.  Division(float) of numbers <br>\n",
    "                        e.  Division(floor) of numbers <br>\n",
    "                        f.  &nbsp;Modulo of both numbers <br>\n",
    "                        g.  a raised to 5\n",
    "                        </b>\n",
    "                </font>\n",
    "            </div>\n",
    "        </td>\n",
    "    </tr>\n",
    "</table>"
   ]
  },
  {
   "cell_type": "markdown",
   "metadata": {
    "id": "oRHSUxMkzWt9"
   },
   "source": [
    "**a. Addition of numbers**"
   ]
  },
  {
   "cell_type": "code",
   "execution_count": null,
   "metadata": {
    "id": "kGwz3XPczWt_",
    "outputId": "c02cdac2-7861-4c86-9ea5-8908e9fc4c88"
   },
   "outputs": [
    {
     "name": "stdout",
     "output_type": "stream",
     "text": [
      "Addition of a and b: 598\n"
     ]
    }
   ],
   "source": [
    "a = 34\n",
    "b = 564\n",
    "\n",
    "# Addition of numbers \n",
    "add = a + b \n",
    "print('Addition of a and b:', add)"
   ]
  },
  {
   "cell_type": "markdown",
   "metadata": {
    "id": "-hkqQe9MzWuE"
   },
   "source": [
    "**b. Subtraction of numbers**"
   ]
  },
  {
   "cell_type": "code",
   "execution_count": null,
   "metadata": {
    "id": "eqBkJI7LzWuF",
    "outputId": "ecd17b46-ee21-4e59-b341-8d60c6f87904"
   },
   "outputs": [
    {
     "name": "stdout",
     "output_type": "stream",
     "text": [
      "Subtraction of a and b: -530\n"
     ]
    }
   ],
   "source": [
    "a = 34\n",
    "b = 564\n",
    "\n",
    "# Subtraction of numbers  \n",
    "sub = a - b \n",
    "print('Subtraction of a and b:', sub)"
   ]
  },
  {
   "cell_type": "markdown",
   "metadata": {
    "id": "dMaxKVdgzWuJ"
   },
   "source": [
    "**c. Multiplication of numbers**"
   ]
  },
  {
   "cell_type": "code",
   "execution_count": null,
   "metadata": {
    "id": "JEaZE48izWuJ",
    "outputId": "b98d7559-57a0-4084-8c00-07e74fa45a35"
   },
   "outputs": [
    {
     "name": "stdout",
     "output_type": "stream",
     "text": [
      "Multiplication of a and b: 19176\n"
     ]
    }
   ],
   "source": [
    "a = 34\n",
    "b = 564\n",
    "\n",
    "# Multiplication of numbers  \n",
    "mul = a * b \n",
    "print('Multiplication of a and b:', mul)"
   ]
  },
  {
   "cell_type": "markdown",
   "metadata": {
    "id": "SbpOMz93zWuP"
   },
   "source": [
    "**d. Division(float) of numbers**"
   ]
  },
  {
   "cell_type": "code",
   "execution_count": null,
   "metadata": {
    "id": "qLOArqwbzWuR",
    "outputId": "447f011d-e860-480b-92b3-44f0e9260aa0"
   },
   "outputs": [
    {
     "name": "stdout",
     "output_type": "stream",
     "text": [
      "Division(float) of a and b: 0.06028368794326241\n"
     ]
    }
   ],
   "source": [
    "a = 34\n",
    "b = 564\n",
    "\n",
    "# Division(float) of numbers \n",
    "div_float = a / b \n",
    "div_float\n",
    "print('Division(float) of a and b:', div_float)"
   ]
  },
  {
   "cell_type": "markdown",
   "metadata": {
    "id": "H3sQgJLhzWuV"
   },
   "source": [
    "**e. Division(floor) of numbers**"
   ]
  },
  {
   "cell_type": "code",
   "execution_count": null,
   "metadata": {
    "id": "IKZTjCc5zWuV",
    "outputId": "df228626-4277-4746-ec43-f850bc2a9b88"
   },
   "outputs": [
    {
     "name": "stdout",
     "output_type": "stream",
     "text": [
      "Division(floor) of a and b: 0\n"
     ]
    }
   ],
   "source": [
    "a = 34\n",
    "b = 564\n",
    "\n",
    "# Division(floor) of numbers \n",
    "div_floor = a // b \n",
    "div_floor\n",
    "print('Division(floor) of a and b:', div_floor)"
   ]
  },
  {
   "cell_type": "markdown",
   "metadata": {
    "id": "_AUx2JPfzWua"
   },
   "source": [
    "**f.  Modulo of both numbers**"
   ]
  },
  {
   "cell_type": "code",
   "execution_count": null,
   "metadata": {
    "id": "urvNb-4IzWub",
    "outputId": "7b1a9fad-af21-4975-c38b-34971b102940"
   },
   "outputs": [
    {
     "name": "stdout",
     "output_type": "stream",
     "text": [
      "Modulo of a and b: 20\n"
     ]
    }
   ],
   "source": [
    "a = 34\n",
    "b = 564\n",
    "\n",
    "# Modulo of both numbers \n",
    "mod = b % a\n",
    "print('Modulo of a and b:', mod)"
   ]
  },
  {
   "cell_type": "markdown",
   "metadata": {
    "id": "GOBqIKspzWui"
   },
   "source": [
    "**g. a raised to 5**"
   ]
  },
  {
   "cell_type": "code",
   "execution_count": null,
   "metadata": {
    "id": "B0CNnZ4TzWui",
    "outputId": "34d36e66-e401-401d-ca91-b0017582a31f"
   },
   "outputs": [
    {
     "name": "stdout",
     "output_type": "stream",
     "text": [
      "a rasied to 5: 45435424\n"
     ]
    }
   ],
   "source": [
    "a = 34\n",
    "b = 564\n",
    "\n",
    "# a raised to 5\n",
    "power = a**5\n",
    "print('a rasied to 5:', power)"
   ]
  },
  {
   "cell_type": "markdown",
   "metadata": {
    "id": "664FQwHIzWul"
   },
   "source": [
    "<table align=\"left\">\n",
    "    <tr>\n",
    "        <td width=\"6%\">\n",
    "            <img src=\"question_icon.png\">\n",
    "        </td>\n",
    "        <td>\n",
    "            <div align=\"left\", style=\"font-size:120%\">\n",
    "                <font color=\"#21618C\">\n",
    "                    <b>36. Write a function to display multiplication table of an integer (take integer input from user)</b>\n",
    "                </font>\n",
    "            </div>\n",
    "        </td>\n",
    "    </tr>\n",
    "</table> "
   ]
  },
  {
   "cell_type": "code",
   "execution_count": null,
   "metadata": {
    "id": "tmTdSFI2zWum",
    "outputId": "ae387ff6-c27e-4ee7-b344-00f7b9841630"
   },
   "outputs": [
    {
     "name": "stdout",
     "output_type": "stream",
     "text": [
      "Enter number:4\n",
      "4\n",
      "8\n",
      "12\n",
      "16\n",
      "20\n",
      "24\n",
      "28\n",
      "32\n",
      "36\n",
      "40\n"
     ]
    }
   ],
   "source": [
    "def table(n):\n",
    "    multi = 1\n",
    "    for i in range(1,11):\n",
    "        multi = n*i\n",
    "        print(multi)\n",
    "\n",
    "# call the function        \n",
    "n=int(input('Enter number:'))\n",
    "table(n)"
   ]
  },
  {
   "cell_type": "markdown",
   "metadata": {
    "id": "Se4z_FsEzWur"
   },
   "source": [
    "<table align=\"left\">\n",
    "    <tr>\n",
    "        <td width=\"6%\">\n",
    "            <img src=\"question_icon.png\">\n",
    "        </td>\n",
    "        <td>\n",
    "            <div align=\"left\", style=\"font-size:120%\">\n",
    "                <font color=\"#21618C\">\n",
    "                    <b>37. What will be the output of the following code? </b>\n",
    "                </font>\n",
    "            </div>\n",
    "        </td>\n",
    "    </tr>\n",
    "</table>"
   ]
  },
  {
   "cell_type": "markdown",
   "metadata": {
    "id": "aTAvXrGhzWus"
   },
   "source": [
    "                                  list = [lambda m:m**2, \n",
    "                                          lambda m,n:m*n, \n",
    "                                          lambda m:m**4]\n",
    "\n",
    "                                  print([list[0](10), list[1](2, 20), list[2](3)])"
   ]
  },
  {
   "cell_type": "markdown",
   "metadata": {
    "id": "7cYwFy7ezWus"
   },
   "source": [
    "**Options:**<br>\n",
    "\n",
    "A. 100, 40, 81<br>\n",
    "B. 100<br>\n",
    "&nbsp; &nbsp; &nbsp; 40<br>\n",
    "&nbsp; &nbsp; &nbsp; 81<br>\n",
    "C. [100, 40, 81]<br>\n",
    "D. None<br>"
   ]
  },
  {
   "cell_type": "markdown",
   "metadata": {
    "id": "HD_TsaSwzWuv"
   },
   "source": [
    "**Answer: C**"
   ]
  },
  {
   "cell_type": "markdown",
   "metadata": {
    "id": "h52xr-SSzWuw"
   },
   "source": [
    "<table align=\"left\">\n",
    "    <tr>\n",
    "        <td width=\"6%\">\n",
    "            <img src=\"question_icon.png\">\n",
    "        </td>\n",
    "        <td>\n",
    "            <div align=\"left\", style=\"font-size:120%\">\n",
    "                <font color=\"#21618C\">\n",
    "                    <b>38. What will be the output of the following code? </b>\n",
    "                </font>\n",
    "            </div>\n",
    "        </td>\n",
    "    </tr>\n",
    "</table>"
   ]
  },
  {
   "cell_type": "markdown",
   "metadata": {
    "id": "VBLjyr99zWux"
   },
   "source": [
    "                         def Foo(x):\n",
    "                             if (x==1):\n",
    "                                 return 1\n",
    "                             else:\n",
    "                                  return x+Foo(x-1)\n",
    "                        print(Foo(4))"
   ]
  },
  {
   "cell_type": "markdown",
   "metadata": {
    "id": "B5s8zDIqzWuy"
   },
   "source": [
    "**Options:**<br>\n",
    "\n",
    "A. 10<br>\n",
    "B. 24<br>\n",
    "C. 1<br>\n",
    "D. 8"
   ]
  },
  {
   "cell_type": "markdown",
   "metadata": {
    "id": "ML1Dn_AbzWuz"
   },
   "source": [
    "**Answer: A**"
   ]
  },
  {
   "cell_type": "markdown",
   "metadata": {
    "id": "MoeR-OMpzWu1"
   },
   "source": [
    "<table align=\"left\">\n",
    "    <tr>\n",
    "        <td width=\"6%\">\n",
    "            <img src=\"question_icon.png\">\n",
    "        </td>\n",
    "        <td>\n",
    "            <div align=\"left\", style=\"font-size:120%\">\n",
    "                <font color=\"#21618C\">\n",
    "                    <b>39. Write the program to replace list values inside a tuple </b>\n",
    "                </font>\n",
    "            </div>\n",
    "        </td>\n",
    "    </tr>\n",
    "</table>"
   ]
  },
  {
   "cell_type": "markdown",
   "metadata": {
    "id": "HT-NazCwzWu1"
   },
   "source": [
    "**Use the tuple:**\n",
    "    \n",
    "t = (1, 2, ['a', 'b', 1.2], 3, 4)<br>\n",
    "\n",
    "Replace 'a' with 100"
   ]
  },
  {
   "cell_type": "code",
   "execution_count": null,
   "metadata": {
    "id": "EmLpvDLRzWu2",
    "outputId": "21d63829-8b3d-4897-db72-33fdc1a716b0"
   },
   "outputs": [
    {
     "data": {
      "text/plain": [
       "(1, 2, [100, 'b', 1.2], 3, 4)"
      ]
     },
     "execution_count": 22,
     "metadata": {
      "tags": []
     },
     "output_type": "execute_result"
    }
   ],
   "source": [
    "# create a tuple containing a list\n",
    "t = (1, 2, ['a', 'b', 1.2], 3, 4)\n",
    "\n",
    "# replace element in the list\n",
    "t[2][0]=100\n",
    "t"
   ]
  },
  {
   "cell_type": "markdown",
   "metadata": {
    "id": "BpvzWdFFzWvA"
   },
   "source": [
    "<table align=\"left\">\n",
    "    <tr>\n",
    "        <td width=\"6%\">\n",
    "            <img src=\"question_icon.png\">\n",
    "        </td>\n",
    "        <td>\n",
    "            <div align=\"left\", style=\"font-size:120%\">\n",
    "                <font color=\"#21618C\">\n",
    "                    <b>40. What will be the output of the following code? </b>\n",
    "                </font>\n",
    "            </div>\n",
    "        </td>\n",
    "    </tr>\n",
    "</table>"
   ]
  },
  {
   "cell_type": "markdown",
   "metadata": {
    "id": "hEmTs1OMzWvB"
   },
   "source": [
    "                        list1=[2, 3, [4, 5]]\n",
    "                        list2=list1.copy()\n",
    "                        list2[0]=88\n",
    "                        list2"
   ]
  },
  {
   "cell_type": "markdown",
   "metadata": {
    "id": "dPAhc4VFzWvB"
   },
   "source": [
    "**Options:**<br>\n",
    "\n",
    "A. [88, 3, 4, 5]<br>\n",
    "B. [88, 3, [4, 5]]<br>\n",
    "C.  88, 3, 4, 5<br>\n",
    "D. None"
   ]
  },
  {
   "cell_type": "markdown",
   "metadata": {
    "id": "P-HTUSWBzWvC"
   },
   "source": [
    "**Answer: B**"
   ]
  },
  {
   "cell_type": "markdown",
   "metadata": {
    "id": "151A0Ww5zWvD"
   },
   "source": [
    "<table align=\"left\">\n",
    "    <tr>\n",
    "        <td width=\"6%\">\n",
    "            <img src=\"question_icon.png\">\n",
    "        </td>\n",
    "        <td>\n",
    "            <div align=\"left\", style=\"font-size:120%\">\n",
    "                <font color=\"#21618C\">\n",
    "                    <b>41. Write a program to find the second largest number in a list (use for loop)</b>\n",
    "                </font>\n",
    "            </div>\n",
    "        </td>\n",
    "    </tr>\n",
    "</table>"
   ]
  },
  {
   "cell_type": "markdown",
   "metadata": {
    "id": "Auf1_1MWzWvD"
   },
   "source": [
    "**Use the list given below:**\n",
    "\n",
    "list1 = [67, 45, 34, 66, 54, 22]"
   ]
  },
  {
   "cell_type": "code",
   "execution_count": null,
   "metadata": {
    "id": "b5PLYYXxzWvE",
    "outputId": "b1850fc4-7353-459d-9c82-0c05fe5ead08"
   },
   "outputs": [
    {
     "name": "stdout",
     "output_type": "stream",
     "text": [
      "Second largest no: 66\n"
     ]
    }
   ],
   "source": [
    "list1 = [67,45,34,66,54,22]\n",
    "\n",
    "for i in range(len(list1)-1):\n",
    "    for j in range(len(list1)-i-1):\n",
    "        if list1[j]>list1[j+1]:\n",
    "            list1[j],list1[j+1] = list1[j+1], list1[j]\n",
    "print(\"Second largest no:\", list1[-2])"
   ]
  },
  {
   "cell_type": "markdown",
   "metadata": {
    "id": "V0e3bj3szWvI"
   },
   "source": [
    "**Explanation:**<br> \n",
    "1. Compare the first two elements<br>\n",
    "2. If the first number is greater than the second number, swap those elements<br>\n",
    "3. Repeat these steps until the whole list is sorted in ascending order<br> \n",
    "4. Then access second last number with negative indexing"
   ]
  },
  {
   "cell_type": "markdown",
   "metadata": {
    "id": "cdGN8jdZzWvJ"
   },
   "source": [
    "<table align=\"left\">\n",
    "    <tr>\n",
    "        <td width=\"6%\">\n",
    "            <img src=\"question_icon.png\">\n",
    "        </td>\n",
    "        <td>\n",
    "            <div align=\"left\", style=\"font-size:120%\">\n",
    "                <font color=\"#21618C\">\n",
    "                    <b> 42. Write a program to read the marks of 5 subjects and display the grade.(assuming there are no passing marks) (take marks as input from user)</b>\n",
    "                </font>\n",
    "            </div>\n",
    "        </td>\n",
    "    </tr>\n",
    "</table>"
   ]
  },
  {
   "cell_type": "code",
   "execution_count": null,
   "metadata": {
    "id": "9BLCcaahzWvK",
    "outputId": "643a26bc-4ef4-40fe-831a-ccacf35b02a9"
   },
   "outputs": [
    {
     "name": "stdout",
     "output_type": "stream",
     "text": [
      "Enter marks for subject1: 74\n",
      "Enter marks for subject2: 84\n",
      "Enter marks for subject3: 5\n",
      "Enter marks for subject4: 78\n",
      "Enter marks for subject5: 59\n",
      "Grade: C\n"
     ]
    }
   ],
   "source": [
    "# input the marks in the 5 subjects\n",
    "m1=int(input(\"Enter marks for subject1: \"))\n",
    "m2=int(input(\"Enter marks for subject2: \"))\n",
    "m3=int(input(\"Enter marks for subject3: \"))\n",
    "m4=int(input(\"Enter marks for subject4: \"))\n",
    "m5=int(input(\"Enter marks for subject5: \"))\n",
    "avg=(m1+m2+m3+m4+m5)/5\n",
    "\n",
    "# give different criterias for grades\n",
    "if(avg>=85):\n",
    "    print(\"Grade: A\")\n",
    "elif(avg>=70 and avg<85):\n",
    "    print(\"Grade: B\")\n",
    "elif(avg>=55 and avg<70):\n",
    "    print(\"Grade: C\")\n",
    "elif(avg>=40 and avg<55):\n",
    "    print(\"Grade: D\")\n",
    "else:\n",
    "    print(\"Grade: F\")"
   ]
  },
  {
   "cell_type": "markdown",
   "metadata": {
    "id": "fnDbQpjxzWvR"
   },
   "source": [
    "**Remark:** One can add different criterias for grades "
   ]
  },
  {
   "cell_type": "markdown",
   "metadata": {
    "id": "2I8_KjlxzWvS"
   },
   "source": [
    "<table align=\"left\">\n",
    "    <tr>\n",
    "        <td width=\"6%\">\n",
    "            <img src=\"question_icon.png\">\n",
    "        </td>\n",
    "        <td>\n",
    "            <div align=\"left\", style=\"font-size:120%\">\n",
    "                <font color=\"#21618C\">\n",
    "                    <b>43. What will be the output of the follwing code? </b>\n",
    "                </font>\n",
    "            </div>\n",
    "        </td>\n",
    "    </tr>\n",
    "</table>"
   ]
  },
  {
   "cell_type": "markdown",
   "metadata": {
    "id": "OQcooOCEzWvT"
   },
   "source": [
    "                   color = {\"orange\", \"yellow\", \"green\", \"red\"}\n",
    "                   number = {\"Two\", \"One\", \"Three\"}\n",
    "                   color < number"
   ]
  },
  {
   "cell_type": "markdown",
   "metadata": {
    "id": "yNaDXFOYzWvT"
   },
   "source": [
    "**Options:**<br>\n",
    "\n",
    "A. True<br>\n",
    "B. False"
   ]
  },
  {
   "cell_type": "markdown",
   "metadata": {
    "id": "JpBfiiibzWvW"
   },
   "source": [
    "**Answer: B**"
   ]
  },
  {
   "cell_type": "markdown",
   "metadata": {
    "id": "6oFw1RMozWvX"
   },
   "source": [
    "<table align=\"left\">\n",
    "    <tr>\n",
    "        <td width=\"6%\">\n",
    "            <img src=\"question_icon.png\">\n",
    "        </td>\n",
    "        <td>\n",
    "            <div align=\"left\", style=\"font-size:120%\">\n",
    "                <font color=\"#21618C\">\n",
    "                    <b>44. Write a function to calculate factorial of a number (take input from user)</b>\n",
    "                </font>\n",
    "            </div>\n",
    "        </td>\n",
    "    </tr>\n",
    "</table> \n"
   ]
  },
  {
   "cell_type": "code",
   "execution_count": null,
   "metadata": {
    "id": "gRYMdLB_zWvb",
    "outputId": "2f8cbf2e-3162-494e-da76-1947d22a5e3e"
   },
   "outputs": [
    {
     "data": {
      "text/plain": [
       "120"
      ]
     },
     "execution_count": 25,
     "metadata": {
      "tags": []
     },
     "output_type": "execute_result"
    }
   ],
   "source": [
    "def fact(n):\n",
    "    fact=1\n",
    "    while n>0:\n",
    "        fact=fact*n\n",
    "        n-=1\n",
    "    return fact\n",
    "\n",
    "# call the function\n",
    "fact(5)"
   ]
  },
  {
   "cell_type": "markdown",
   "metadata": {
    "id": "bhcVN8f-zWvl"
   },
   "source": [
    "\n",
    "<table align=\"left\">\n",
    "    <tr>\n",
    "        <td width=\"6%\">\n",
    "            <img src=\"question_icon.png\">\n",
    "        </td>\n",
    "        <td>\n",
    "            <div align=\"left\", style=\"font-size:120%\">\n",
    "                <font color=\"#21618C\">\n",
    "                    <b>45. Write a program to read two numbers and print their quotient and remainder (take numbers as input from user)</b>\n",
    "                </font>\n",
    "            </div>\n",
    "        </td>\n",
    "    </tr>\n",
    "</table>"
   ]
  },
  {
   "cell_type": "code",
   "execution_count": null,
   "metadata": {
    "id": "NWSApDUOzWvm",
    "outputId": "fe0bc0b0-d066-4ea0-d741-efef3661468f"
   },
   "outputs": [
    {
     "name": "stdout",
     "output_type": "stream",
     "text": [
      "Enter the 1 st number: 57\n",
      "Enter the 2 nd number: 4\n",
      "Quotient is: 14\n",
      "Remainder is: 1\n"
     ]
    }
   ],
   "source": [
    "a = int(input(\"Enter the 1 st number: \"))\n",
    "b = int(input(\"Enter the 2 nd number: \"))\n",
    "\n",
    "# calculate the quotient and remainder\n",
    "q = a//b\n",
    "r = a%b\n",
    "print(\"Quotient is:\",q)\n",
    "print(\"Remainder is:\",r)"
   ]
  },
  {
   "cell_type": "markdown",
   "metadata": {
    "id": "QK1RgxwHzWvu"
   },
   "source": [
    "\n",
    "<table align=\"left\">\n",
    "    <tr>\n",
    "        <td width=\"6%\">\n",
    "            <img src=\"question_icon.png\">\n",
    "        </td>\n",
    "        <td>\n",
    "            <div align=\"left\", style=\"font-size:120%\">\n",
    "                <font color=\"#21618C\">\n",
    "                    <b>46. Write a program to find the sum of digits in a number using list (take input from user)</b>\n",
    "                </font>\n",
    "            </div>\n",
    "        </td>\n",
    "    </tr>\n",
    "</table>"
   ]
  },
  {
   "cell_type": "markdown",
   "metadata": {
    "id": "oxiU-8SLzWvv"
   },
   "source": [
    "For example:<br>\n",
    "If number = 86<br>\n",
    "output should be equal to 8 + 6 = 14 "
   ]
  },
  {
   "cell_type": "code",
   "execution_count": null,
   "metadata": {
    "id": "1FVjTqa3zWvx",
    "outputId": "45fdb9c9-183e-4e7c-95dd-e58a3bb399ca"
   },
   "outputs": [
    {
     "name": "stdout",
     "output_type": "stream",
     "text": [
      "Enter a number: 51\n",
      "Sum is: 6\n"
     ]
    }
   ],
   "source": [
    "list1 = []\n",
    "b = int(input(\"Enter a number: \"))\n",
    "while(b > 0):\n",
    "    dig = b%10\n",
    "    list1.append(dig)\n",
    "    b = b//10\n",
    "print(\"Sum is:\", sum(list1))"
   ]
  },
  {
   "cell_type": "markdown",
   "metadata": {
    "id": "nY0q0OQTzWv2"
   },
   "source": [
    "<table align=\"left\">\n",
    "    <tr>\n",
    "        <td width=\"6%\">\n",
    "            <img src=\"question_icon.png\">\n",
    "        </td>\n",
    "        <td>\n",
    "            <div align=\"left\", style=\"font-size:120%\">\n",
    "                <font color=\"#21618C\">\n",
    "                    <b>47. What will be the output of the following code? </b>\n",
    "                </font>\n",
    "            </div>\n",
    "        </td>\n",
    "    </tr>\n",
    "</table>"
   ]
  },
  {
   "cell_type": "markdown",
   "metadata": {
    "id": "XwimQw_uzWv6"
   },
   "source": [
    "                              result = (lambda x, y: 'True' if x == y else 'False')\n",
    "                              result(\"Python\", \"PyThon\")"
   ]
  },
  {
   "cell_type": "markdown",
   "metadata": {
    "id": "-OoAbxCFzWv7"
   },
   "source": [
    "**Options:**<br>\n",
    "\n",
    "A. True<br>\n",
    "B. False"
   ]
  },
  {
   "cell_type": "markdown",
   "metadata": {
    "id": "AeD97h7xzWv8"
   },
   "source": [
    "**Answer: B**"
   ]
  },
  {
   "cell_type": "markdown",
   "metadata": {
    "id": "YQcBQbvnzWv9"
   },
   "source": [
    "<table align=\"left\">\n",
    "    <tr>\n",
    "        <td width=\"6%\">\n",
    "            <img src=\"question_icon.png\">\n",
    "        </td>\n",
    "        <td>\n",
    "            <div align=\"left\", style=\"font-size:120%\">\n",
    "                <font color=\"#21618C\">\n",
    "                    <b>48. Suppose a tuple 'X' contains 15 elements. How can you set the 3rd element to ‘Python’?  </b>\n",
    "                </font>\n",
    "            </div>\n",
    "        </td>\n",
    "    </tr>\n",
    "</table>"
   ]
  },
  {
   "cell_type": "markdown",
   "metadata": {
    "id": "KcHrqpPMzWv9"
   },
   "source": [
    "**Options:**<br>\n",
    "\n",
    "A. X[2] = 'Python'<br>\n",
    "B. Elements of tuple cannot be changed<br>\n",
    "C. X[3] = 'Python'<br>\n",
    "D. X(2) = 'Python'"
   ]
  },
  {
   "cell_type": "markdown",
   "metadata": {
    "id": "1RJ5R7LQzWv-"
   },
   "source": [
    "**Answer: B**"
   ]
  },
  {
   "cell_type": "markdown",
   "metadata": {
    "id": "JNQ9xz4qzWv-"
   },
   "source": [
    "<table align=\"left\">\n",
    "    <tr>\n",
    "        <td width=\"6%\">\n",
    "            <img src=\"question_icon.png\">\n",
    "        </td>\n",
    "        <td>\n",
    "            <div align=\"left\", style=\"font-size:120%\">\n",
    "                <font color=\"#21618C\">\n",
    "                    <b>49. Write a program to find ASCII value for entered character (take character input from user)</b>\n",
    "                </font>\n",
    "            </div>\n",
    "        </td>\n",
    "    </tr>\n",
    "</table>"
   ]
  },
  {
   "cell_type": "code",
   "execution_count": null,
   "metadata": {
    "id": "Fafmx4i6zWv_",
    "outputId": "03a28da9-e108-4cdb-9f58-22957da344d7"
   },
   "outputs": [
    {
     "name": "stdout",
     "output_type": "stream",
     "text": [
      "Enter character:j\n"
     ]
    },
    {
     "data": {
      "text/plain": [
       "106"
      ]
     },
     "execution_count": 2,
     "metadata": {
      "tags": []
     },
     "output_type": "execute_result"
    }
   ],
   "source": [
    "char = input('Enter character:')\n",
    "ord(char)"
   ]
  },
  {
   "cell_type": "markdown",
   "metadata": {
    "id": "CTE1all8zWwD"
   },
   "source": [
    "<table align=\"left\">\n",
    "    <tr>\n",
    "        <td width=\"6%\">\n",
    "            <img src=\"question_icon.png\">\n",
    "        </td>\n",
    "        <td>\n",
    "            <div align=\"left\", style=\"font-size:120%\">\n",
    "                <font color=\"#21618C\">\n",
    "                    <b> 50. Consider a situation in which you need to calculate the price after tax for a list of transactions. For a given list of prices and a tax rate, write a user-defined function to get the final price</b>\n",
    "                </font>\n",
    "            </div>\n",
    "        </td>\n",
    "    </tr>\n",
    "</table>"
   ]
  },
  {
   "cell_type": "markdown",
   "metadata": {
    "id": "o1ZFD0WJzWwE"
   },
   "source": [
    "**Use the price list and tax rate given below:**\n",
    "\n",
    "Price = [1.90, 28.56, 77.84, 45.56, 64.78] (Prices are in Lakhs)\n",
    "\n",
    "TAX_RATE = .08"
   ]
  },
  {
   "cell_type": "code",
   "execution_count": null,
   "metadata": {
    "id": "rRzxI48RzWwE",
    "outputId": "1a44b8a7-5b99-4320-bdcd-9f2f1a13f9f9"
   },
   "outputs": [
    {
     "data": {
      "text/plain": [
       "[2.052, 30.8448, 84.06720000000001, 49.204800000000006, 69.9624]"
      ]
     },
     "execution_count": 3,
     "metadata": {
      "tags": []
     },
     "output_type": "execute_result"
    }
   ],
   "source": [
    "# Prices are in lakhs\n",
    "Price = [1.90, 28.56, 77.84, 45.56, 64.78]\n",
    "\n",
    "TAX_RATE = .08\n",
    "\n",
    "def get_price_with_tax(txn):\n",
    "    return txn * (1 + TAX_RATE)\n",
    "\n",
    "# call the function\n",
    "final_prices = [get_price_with_tax(i) for i in Price]\n",
    "final_prices"
   ]
  },
  {
   "cell_type": "markdown",
   "metadata": {
    "id": "qSphvcRpzWwG"
   },
   "source": [
    "<table align=\"left\">\n",
    "    <tr>\n",
    "        <td width=\"6%\">\n",
    "            <img src=\"question_icon.png\">\n",
    "        </td>\n",
    "        <td>\n",
    "            <div align=\"left\", style=\"font-size:120%\">\n",
    "                <font color=\"#21618C\">\n",
    "                    <b> 51. Create a new list by multiplying each element of the given list by 2 </b>\n",
    "                </font>\n",
    "            </div>\n",
    "        </td>\n",
    "    </tr>\n",
    "</table>"
   ]
  },
  {
   "cell_type": "markdown",
   "metadata": {
    "id": "LwI8hvFhzWwH"
   },
   "source": [
    "**Use the list given below:**\n",
    "\n",
    "given_list = [10, 2, 7, 4, 5, 12]"
   ]
  },
  {
   "cell_type": "code",
   "execution_count": null,
   "metadata": {
    "id": "2SwdBWMozWwH",
    "outputId": "5734d18e-63b8-47ba-af9e-a939723782c8"
   },
   "outputs": [
    {
     "data": {
      "text/plain": [
       "[20, 4, 14, 8, 10, 24]"
      ]
     },
     "execution_count": 4,
     "metadata": {
      "tags": []
     },
     "output_type": "execute_result"
    }
   ],
   "source": [
    "given_list = [10, 2, 7, 4, 5, 12]\n",
    "updated_list =list(map(lambda x : x*2, given_list))\n",
    "updated_list"
   ]
  },
  {
   "cell_type": "markdown",
   "metadata": {
    "id": "5AiAuo_3zWwK"
   },
   "source": [
    "<table align=\"left\">\n",
    "    <tr>\n",
    "        <td width=\"6%\">\n",
    "            <img src=\"question_icon.png\">\n",
    "        </td>\n",
    "        <td>\n",
    "            <div align=\"left\", style=\"font-size:120%\">\n",
    "                <font color=\"#21618C\">\n",
    "                    <b> 52. Write a program to find the common elements in the given lists</b>\n",
    "                </font>\n",
    "            </div>\n",
    "        </td>\n",
    "    </tr>\n",
    "</table>"
   ]
  },
  {
   "cell_type": "markdown",
   "metadata": {
    "id": "LAouKumuzWwK"
   },
   "source": [
    "**Use the list given below:**\n",
    "\n",
    "list1 = [67, 47, 31, 54, 22, 87, 41, 54]\n",
    "\n",
    "list2 = [22, 52, 74, 67, 42, 89, 47]"
   ]
  },
  {
   "cell_type": "code",
   "execution_count": null,
   "metadata": {
    "id": "BSP_sFSbzWwL",
    "outputId": "9c73ab3f-741f-4191-d364-51746ac236d0"
   },
   "outputs": [
    {
     "data": {
      "text/plain": [
       "[67, 22, 47]"
      ]
     },
     "execution_count": 5,
     "metadata": {
      "tags": []
     },
     "output_type": "execute_result"
    }
   ],
   "source": [
    "list1 = [67, 47, 31, 54, 22, 87, 41, 54]\n",
    "list2 = [22, 52, 74, 67, 42, 89, 47]\n",
    "list(set(list1) & set(list2))"
   ]
  },
  {
   "cell_type": "markdown",
   "metadata": {
    "id": "mwrBoowSzWwN"
   },
   "source": [
    "<table align=\"left\">\n",
    "    <tr>\n",
    "        <td width=\"6%\">\n",
    "            <img src=\"question_icon.png\">\n",
    "        </td>\n",
    "        <td>\n",
    "            <div align=\"left\", style=\"font-size:120%\">\n",
    "                <font color=\"#21618C\">\n",
    "                    <b>53. If Name = {'John', 'Sunny', 'James', 'Robert' }, Which of the following statement is false ? </b>\n",
    "                </font>\n",
    "            </div>\n",
    "        </td>\n",
    "    </tr>\n",
    "</table>"
   ]
  },
  {
   "cell_type": "markdown",
   "metadata": {
    "id": "CbjUFwVhzWwN"
   },
   "source": [
    "**Options:**<br>\n",
    "\n",
    "A. Name.remove('John')<br>\n",
    "B. Name.add('John')<br>\n",
    "C. Name.discard(1)<br>\n",
    "D. Name{'James'} = 'Mary'"
   ]
  },
  {
   "cell_type": "markdown",
   "metadata": {
    "id": "vfxao7OuzWwO"
   },
   "source": [
    "**Answer: D**"
   ]
  },
  {
   "cell_type": "markdown",
   "metadata": {
    "id": "3tjEnLS9zWwO"
   },
   "source": [
    "<table align=\"left\">\n",
    "    <tr>\n",
    "        <td width=\"6%\">\n",
    "            <img src=\"question_icon.png\">\n",
    "        </td>\n",
    "        <td>\n",
    "            <div align=\"left\", style=\"font-size:120%\">\n",
    "                <font color=\"#21618C\">\n",
    "                    <b>54. What will be the output of the following code? </b>\n",
    "                </font>\n",
    "            </div>\n",
    "        </td>\n",
    "    </tr>\n",
    "</table>"
   ]
  },
  {
   "cell_type": "markdown",
   "metadata": {
    "id": "vbZNuIWtzWwO"
   },
   "source": [
    "                   set = {12, 35, 36, 36, 77}\n",
    "                   set"
   ]
  },
  {
   "cell_type": "markdown",
   "metadata": {
    "id": "-lJQTrj0zWwP"
   },
   "source": [
    "**Options:**<br>\n",
    "\n",
    "A. {12, 35, 36, 77}<br>\n",
    "B. {12, 35, 36, 36, 77}<br>\n",
    "C. 12, 35, 36, 36, 77<br>\n",
    "D. 12, 35, 36, 77"
   ]
  },
  {
   "cell_type": "markdown",
   "metadata": {
    "id": "2CrcxdfQzWwP"
   },
   "source": [
    "**Answer: A**"
   ]
  },
  {
   "cell_type": "markdown",
   "metadata": {
    "id": "EdhDsIl7zWwQ"
   },
   "source": [
    "\n",
    "<table align=\"left\">\n",
    "    <tr>\n",
    "        <td width=\"6%\">\n",
    "            <img src=\"question_icon.png\">\n",
    "        </td>\n",
    "        <td>\n",
    "            <div align=\"left\", style=\"font-size:120%\">\n",
    "                <font color=\"#21618C\">\n",
    "                    <b>55. Write a program that takes three integers and prints all possible combinations from the digits (take integer inpur from user)</b>\n",
    "                </font>\n",
    "            </div>\n",
    "        </td>\n",
    "    </tr>\n",
    "</table>"
   ]
  },
  {
   "cell_type": "code",
   "execution_count": null,
   "metadata": {
    "id": "mmDcrQJMzWwQ",
    "outputId": "24ab233e-bc9a-4a82-bf80-f826d0767593"
   },
   "outputs": [
    {
     "name": "stdout",
     "output_type": "stream",
     "text": [
      "Enter first number:5\n",
      "Enter second number:7\n",
      "Enter third number:1\n",
      "5 7 1\n",
      "5 1 7\n",
      "7 5 1\n",
      "7 1 5\n",
      "1 5 7\n",
      "1 7 5\n"
     ]
    }
   ],
   "source": [
    "# input three integers\n",
    "num1 = int(input(\"Enter first number:\"))\n",
    "num2 = int(input(\"Enter second number:\"))\n",
    "num3 = int(input(\"Enter third number:\"))\n",
    "\n",
    "# create an empty list to store the integers\n",
    "combinations = []\n",
    "combinations.append(num1)\n",
    "combinations.append(num2)\n",
    "combinations.append(num3)\n",
    "\n",
    "# use for loop to iterate over the numbers\n",
    "for i in range(0,3):\n",
    "    for j in range(0,3):\n",
    "        for k in range(0,3):\n",
    "            if(i!=j&j!=k&k!=i):\n",
    "                print(combinations[i], combinations[j], combinations[k])"
   ]
  },
  {
   "cell_type": "markdown",
   "metadata": {
    "id": "bdm-RiUtzWwS"
   },
   "source": [
    "<table align=\"left\">\n",
    "    <tr>\n",
    "        <td width=\"6%\">\n",
    "            <img src=\"question_icon.png\">\n",
    "        </td>\n",
    "        <td>\n",
    "            <div align=\"left\", style=\"font-size:120%\">\n",
    "                <font color=\"#21618C\">\n",
    "                    <b>56. Write a program that takes a string and create a dictionary with the word as key and frequency of the word as value </b>\n",
    "                </font>\n",
    "            </div>\n",
    "        </td>\n",
    "    </tr>\n",
    "</table>"
   ]
  },
  {
   "cell_type": "markdown",
   "metadata": {
    "id": "M6zrjnu6zWwT"
   },
   "source": [
    "**Use the string given below: (or create your own string)**\n",
    "\n",
    "str1 = 'they dont know that we know they know we know'"
   ]
  },
  {
   "cell_type": "code",
   "execution_count": null,
   "metadata": {
    "id": "B1Qj4-b0zWwT",
    "outputId": "f788d06d-8f2b-42da-eb39-a4dd5d88abff"
   },
   "outputs": [
    {
     "name": "stdout",
     "output_type": "stream",
     "text": [
      "{'they': 2, 'dont': 1, 'know': 4, 'that': 1, 'we': 2}\n"
     ]
    }
   ],
   "source": [
    "str1 = 'they dont know that we know they know we know'\n",
    "key = []\n",
    "\n",
    "# returns a list of strings after breaking the given string at white spaces\n",
    "key = str1.split()\n",
    "\n",
    "# calculate the frequency of each word\n",
    "wordfreq = [key.count(p) for p in key]\n",
    "print(dict(zip(key,wordfreq)))"
   ]
  },
  {
   "cell_type": "markdown",
   "metadata": {
    "id": "YeyirIPBzWwY"
   },
   "source": [
    "<table align=\"left\">\n",
    "    <tr>\n",
    "        <td width=\"6%\">\n",
    "            <img src=\"question_icon.png\">\n",
    "        </td>\n",
    "        <td>\n",
    "            <div align=\"left\", style=\"font-size:120%\">\n",
    "                <font color=\"#21618C\">\n",
    "                    <b>57. Write a code to find the gcd of two numbers (take input for two numbers from user)</b>\n",
    "                </font>\n",
    "            </div>\n",
    "        </td>\n",
    "    </tr>\n",
    "</table>"
   ]
  },
  {
   "cell_type": "code",
   "execution_count": null,
   "metadata": {
    "id": "q0jQZWUzzWwY",
    "outputId": "1915428a-3816-499b-861e-93f4faa31ae1"
   },
   "outputs": [
    {
     "name": "stdout",
     "output_type": "stream",
     "text": [
      "Enter the first number: 25\n",
      "Enter the second number: 3\n",
      "The GCD of 25 and 3 is 1\n"
     ]
    }
   ],
   "source": [
    "num1 = int(input(\"Enter the first number: \"))\n",
    "num2 = int(input(\"Enter the second number: \"))\n",
    "\n",
    "factors_1 = []\n",
    "for i in range(1, num1+1):\n",
    "    if (num1 % i == 0):\n",
    "        factors_1.append(i)\n",
    "        \n",
    "factors_2 = []\n",
    "for j in range(1, num2+1):\n",
    "    if (num2 % j == 0):\n",
    "        factors_2.append(j)\n",
    "        \n",
    "common_factors = []\n",
    "for factor in factors_1:\n",
    "    if factor in factors_2:\n",
    "        common_factors.append(factor)\n",
    "\n",
    "gcd = common_factors[-1]\n",
    "print(\"The GCD of %d and %d is %d\" %(num1, num2, gcd))      "
   ]
  },
  {
   "cell_type": "markdown",
   "metadata": {
    "id": "5szH_AK8zWwa"
   },
   "source": [
    "<table align=\"left\">\n",
    "    <tr>\n",
    "        <td width=\"6%\">\n",
    "            <img src=\"question_icon.png\">\n",
    "        </td>\n",
    "        <td>\n",
    "            <div align=\"left\", style=\"font-size:120%\">\n",
    "                <font color=\"#21618C\">\n",
    "                    <b>58. What is the output of  print((1, 2) + (3, 4)) ? </b>\n",
    "                </font>\n",
    "            </div>\n",
    "        </td>\n",
    "    </tr>\n",
    "</table>"
   ]
  },
  {
   "cell_type": "markdown",
   "metadata": {
    "id": "qSgWfnk9zWwb"
   },
   "source": [
    "**Options:**<br>\n",
    "\n",
    "A. (1, 2, 3, 4)<br>\n",
    "B. (1, 2) + (3, 4)<br>\n",
    "C. (4, 5, 5, 6)<br>\n",
    "D. ((1, 2), (3,4)"
   ]
  },
  {
   "cell_type": "markdown",
   "metadata": {
    "id": "LA30BEMlzWwb"
   },
   "source": [
    "**Answer: A**"
   ]
  },
  {
   "cell_type": "markdown",
   "metadata": {
    "id": "aiwPbNbizWwc"
   },
   "source": [
    "<table align=\"left\">\n",
    "    <tr>\n",
    "        <td width=\"6%\">\n",
    "            <img src=\"question_icon.png\">\n",
    "        </td>\n",
    "        <td>\n",
    "            <div align=\"left\", style=\"font-size:120%\">\n",
    "                <font color=\"#21618C\">\n",
    "                    <b>59. Obtain one-one mapping of elements using zip function </b>\n",
    "                </font>\n",
    "            </div>\n",
    "        </td>\n",
    "    </tr>\n",
    "</table>"
   ]
  },
  {
   "cell_type": "markdown",
   "metadata": {
    "id": "mSftNErUzWwc"
   },
   "source": [
    "**Use the list given below: (or you can create your own list)**<br>\n",
    "\n",
    "x = ['a','b','c']\n",
    "\n",
    "y = [1,2,3]"
   ]
  },
  {
   "cell_type": "code",
   "execution_count": null,
   "metadata": {
    "id": "6_ODmTCgzWwd",
    "outputId": "c71ea9f5-8c0b-43af-e7fc-9c5cc8c695db"
   },
   "outputs": [
    {
     "name": "stdout",
     "output_type": "stream",
     "text": [
      "[('a', 1), ('b', 2), ('c', 3)]\n"
     ]
    }
   ],
   "source": [
    "x = ['a','b','c']\n",
    "y = [1,2,3]\n",
    "\n",
    "print(list(zip(x,y)))"
   ]
  },
  {
   "cell_type": "markdown",
   "metadata": {
    "id": "ddKFcyrrzWwf"
   },
   "source": [
    "<table align=\"left\">\n",
    "    <tr>\n",
    "        <td width=\"6%\">\n",
    "            <img src=\"question_icon.png\">\n",
    "        </td>\n",
    "        <td>\n",
    "            <div align=\"left\", style=\"font-size:120%\">\n",
    "                <font color=\"#21618C\">\n",
    "                    <b>60. Write a program to find the frequency of a particular number that occurs in a list (take input for number from user)</b>\n",
    "                </font>\n",
    "            </div>\n",
    "        </td>\n",
    "    </tr>\n",
    "</table>"
   ]
  },
  {
   "cell_type": "markdown",
   "metadata": {
    "id": "vMO8yTJUzWwg"
   },
   "source": [
    "**Use the list given below: (or create your own list)**<br>\n",
    "\n",
    "num_list = [1,2,1,2,4,2,5,7,5,8,6,9,55,4,1,26,5,21,6,5,2,1,7,41,3,6,25,74]"
   ]
  },
  {
   "cell_type": "code",
   "execution_count": null,
   "metadata": {
    "id": "lP9esIt7zWwg",
    "outputId": "c26274b9-4909-463f-f8d0-af2bc22f1057"
   },
   "outputs": [
    {
     "name": "stdout",
     "output_type": "stream",
     "text": [
      "Enter the number to be counted:4\n",
      "Number of times 4 appears is 2\n"
     ]
    }
   ],
   "source": [
    "num_list = [1,2,1,2,4,2,5,7,5,8,6,9,55,4,1,26,5,21,6,5,2,1,7,41,3,6,25,74]\n",
    "k = 0\n",
    "num = int(input(\"Enter the number to be counted:\"))\n",
    "\n",
    "# use the 'for loop' to calculate the frequency \n",
    "for j in num_list:\n",
    "    if(j==num):\n",
    "        k = k+1\n",
    "print(\"Number of times\",num,\"appears is\",k)"
   ]
  },
  {
   "cell_type": "markdown",
   "metadata": {
    "id": "ijPADJQ-zWwi"
   },
   "source": [
    "<table align=\"left\">\n",
    "    <tr>\n",
    "        <td width=\"6%\">\n",
    "            <img src=\"question_icon.png\">\n",
    "        </td>\n",
    "        <td>\n",
    "            <div align=\"left\", style=\"font-size:120%\">\n",
    "                <font color=\"#21618C\">\n",
    "                    <b>61. Use the filter function to retrieve only the even numbers from a given tuple</b>\n",
    "                </font>\n",
    "            </div>\n",
    "        </td>\n",
    "    </tr>\n",
    "</table>"
   ]
  },
  {
   "cell_type": "markdown",
   "metadata": {
    "id": "hv7dItDzzWwi"
   },
   "source": [
    "**Use the list given below:**\n",
    "\n",
    "tuple1 = (18, 29, 37, 42, 51, 68, 77, 82, 106, 215)"
   ]
  },
  {
   "cell_type": "code",
   "execution_count": null,
   "metadata": {
    "id": "8Dtml6u-zWwj",
    "outputId": "f6ba309c-bd6a-4a09-9d4d-30943de585c6"
   },
   "outputs": [
    {
     "data": {
      "text/plain": [
       "(18, 42, 68, 82, 106)"
      ]
     },
     "execution_count": 11,
     "metadata": {
      "tags": []
     },
     "output_type": "execute_result"
    }
   ],
   "source": [
    "tuple1 = (18, 29, 37, 42, 51, 68, 77, 82, 106, 215)\n",
    "even_tuple = tuple(filter(lambda x: x%2==0, tuple1))\n",
    "even_tuple"
   ]
  },
  {
   "cell_type": "markdown",
   "metadata": {
    "id": "yqwpjMsizWwo"
   },
   "source": [
    "<table align=\"left\">\n",
    "    <tr>\n",
    "        <td width=\"6%\">\n",
    "            <img src=\"question_icon.png\">\n",
    "        </td>\n",
    "        <td>\n",
    "            <div align=\"left\", style=\"font-size:120%\">\n",
    "                <font color=\"#21618C\">\n",
    "                    <b> 62. Write a program to reverse elements in the tuple  </b>\n",
    "                </font>\n",
    "            </div>\n",
    "        </td>\n",
    "    </tr>\n",
    "</table>"
   ]
  },
  {
   "cell_type": "markdown",
   "metadata": {
    "id": "wg_HgdTUzWwo"
   },
   "source": [
    "**Use the tuple below: (or create your own tuple)**\n",
    "\n",
    "tuple1 = (23, 56, 11, 2, 44, 5)"
   ]
  },
  {
   "cell_type": "code",
   "execution_count": null,
   "metadata": {
    "id": "-EiemGdvzWwp",
    "outputId": "bd52302e-385b-43f7-c6e6-dc86fc873abd"
   },
   "outputs": [
    {
     "name": "stdout",
     "output_type": "stream",
     "text": [
      "Reverse tuple is: (5, 44, 2, 11, 56, 23)\n"
     ]
    }
   ],
   "source": [
    "tuple1 = (23, 56, 11, 2, 44, 5)\n",
    "reverse_tuple =  tuple1[::-1]\n",
    "print('Reverse tuple is:', reverse_tuple)"
   ]
  },
  {
   "cell_type": "markdown",
   "metadata": {
    "id": "KJVEwRtwzWwr"
   },
   "source": [
    "<table align=\"left\">\n",
    "    <tr>\n",
    "        <td width=\"6%\">\n",
    "            <img src=\"question_icon.png\">\n",
    "        </td>\n",
    "        <td>\n",
    "            <div align=\"left\", style=\"font-size:120%\">\n",
    "                <font color=\"#21618C\">\n",
    "                    <b>63. If a = {1, 3, 4, 5}, which of the following statement is false ? </b>\n",
    "                </font>\n",
    "            </div>\n",
    "        </td>\n",
    "    </tr>\n",
    "</table>"
   ]
  },
  {
   "cell_type": "markdown",
   "metadata": {
    "id": "xtCNbaVZzWws"
   },
   "source": [
    "**Options:**<br>\n",
    "\n",
    "A. a.update([1, 2, 3])<br>\n",
    "B. a.update((1, 2, 3))<br>\n",
    "C. a.update({1, 2, 3})<br>\n",
    "D. a.update{(1, 2, 3)}<br>"
   ]
  },
  {
   "cell_type": "markdown",
   "metadata": {
    "id": "wCKV5XCrzWws"
   },
   "source": [
    "**Answer: D**"
   ]
  },
  {
   "cell_type": "markdown",
   "metadata": {
    "id": "5a1TQyqezWwu"
   },
   "source": [
    "<table align=\"left\">\n",
    "    <tr>\n",
    "        <td width=\"6%\">\n",
    "            <img src=\"question_icon.png\">\n",
    "        </td>\n",
    "        <td>\n",
    "            <div align=\"left\", style=\"font-size:120%\">\n",
    "                <font color=\"#21618C\">\n",
    "                    <b>64. What will be the output of the following code? </b>\n",
    "                </font>\n",
    "            </div>\n",
    "        </td>\n",
    "    </tr>\n",
    "</table>"
   ]
  },
  {
   "cell_type": "markdown",
   "metadata": {
    "id": "yl0LzNv2zWwv"
   },
   "source": [
    "                    a ={} \n",
    "                    dict = a.fromkeys(['a', 'b', 'c', 'd'], (98, 30))\n",
    "                    print (dict) "
   ]
  },
  {
   "cell_type": "markdown",
   "metadata": {
    "id": "hz2wCmxVzWwv"
   },
   "source": [
    "**Options:**<br>\n",
    "\n",
    "A. {'a': (98, 30), 'b': (98, 30), 'c': (98, 30), 'd': (98, 30)}<br>\n",
    "B. {'a': (98), 'b': (98), 'c': (30), 'd': (30)}<br>\n",
    "C. {'a': (30), 'b': (30), 'c': (98), 'd': (98)}<br>\n",
    "D. None of the above"
   ]
  },
  {
   "cell_type": "markdown",
   "metadata": {
    "id": "Esk4R9o1zWww"
   },
   "source": [
    "**Answer: A**"
   ]
  },
  {
   "cell_type": "markdown",
   "metadata": {
    "id": "LwLiGX0_zWww"
   },
   "source": [
    "<table align=\"left\">\n",
    "    <tr>\n",
    "        <td width=\"6%\">\n",
    "            <img src=\"question_icon.png\">\n",
    "        </td>\n",
    "        <td>\n",
    "            <div align=\"left\", style=\"font-size:120%\">\n",
    "                <font color=\"#21618C\">\n",
    "                    <b>65. Write a program that takes a number and prints an identity matrix of the same order (take input for number from user)</b>\n",
    "                </font>\n",
    "            </div>\n",
    "        </td>\n",
    "    </tr>\n",
    "</table>"
   ]
  },
  {
   "cell_type": "code",
   "execution_count": null,
   "metadata": {
    "id": "puGzTFihzWwx",
    "outputId": "e9941ae7-6174-42b9-d043-5e3f47fcb4f7"
   },
   "outputs": [
    {
     "name": "stdout",
     "output_type": "stream",
     "text": [
      "Enter a number: 5\n",
      "1 0 0 0 0 \n",
      "0 1 0 0 0 \n",
      "0 0 1 0 0 \n",
      "0 0 0 1 0 \n",
      "0 0 0 0 1 \n"
     ]
    }
   ],
   "source": [
    "n = int(input(\"Enter a number: \"))\n",
    "for i in range(0,n):\n",
    "    for j in range(0,n):\n",
    "        if(i==j):\n",
    "            print(\"1\",sep=\" \",end=\" \")\n",
    "        else:\n",
    "            print(\"0\",sep=\" \",end=\" \")\n",
    "    print()"
   ]
  },
  {
   "cell_type": "markdown",
   "metadata": {
    "id": "ezYFh5z1zWw0"
   },
   "source": [
    "<table align=\"left\">\n",
    "    <tr>\n",
    "        <td width=\"6%\">\n",
    "            <img src=\"question_icon.png\">\n",
    "        </td>\n",
    "        <td>\n",
    "            <div align=\"left\", style=\"font-size:120%\">\n",
    "                <font color=\"#21618C\">\n",
    "                    <b>66. What will be the output of the following code? </b>\n",
    "                </font>\n",
    "            </div>\n",
    "        </td>\n",
    "    </tr>\n",
    "</table>"
   ]
  },
  {
   "cell_type": "markdown",
   "metadata": {
    "id": "c-Zwn9JYzWw0"
   },
   "source": [
    "                    A = (12, 10)\n",
    "                    B = (1, 2)\n",
    "                    res = A + B\n",
    "                    res += A\n",
    "                    res"
   ]
  },
  {
   "cell_type": "markdown",
   "metadata": {
    "id": "uOOcjWIxzWw1"
   },
   "source": [
    "**Options:**<br>\n",
    "\n",
    "A. (12, 10, 10)<br>\n",
    "B. (12, 10, 1, 2, 12, 10)<br>\n",
    "C. (12, 12, 10, 10)<br>\n",
    "D. (12, 12)"
   ]
  },
  {
   "cell_type": "markdown",
   "metadata": {
    "id": "nbx5-WhNzWw1"
   },
   "source": [
    "**Answer: B**"
   ]
  },
  {
   "cell_type": "markdown",
   "metadata": {
    "id": "U3yGUy0szWw2"
   },
   "source": [
    "<table align=\"left\">\n",
    "    <tr>\n",
    "        <td width=\"6%\">\n",
    "            <img src=\"question_icon.png\">\n",
    "        </td>\n",
    "        <td>\n",
    "            <div align=\"left\", style=\"font-size:120%\">\n",
    "                <font color=\"#21618C\">\n",
    "                    <b>67. Write a code to multiply 3X3 matrices</b>\n",
    "                </font>\n",
    "            </div>\n",
    "        </td>\n",
    "    </tr>\n",
    "</table>"
   ]
  },
  {
   "cell_type": "markdown",
   "metadata": {
    "id": "cpmdJLdHzWw3"
   },
   "source": [
    "**Use the matrices given below:**\n",
    "\n",
    "X = [[1,2,3],\n",
    "    [4 ,5,6],\n",
    "    [7 ,8,9]]\n",
    "\n",
    "Y = [[1,8,1],\n",
    "    [3,7,3],\n",
    "    [4,5,9]]"
   ]
  },
  {
   "cell_type": "code",
   "execution_count": null,
   "metadata": {
    "id": "0voiwlUQzWw3",
    "outputId": "42c9016c-043f-4066-c246-0167dfa6038f"
   },
   "outputs": [
    {
     "name": "stdout",
     "output_type": "stream",
     "text": [
      "[19, 37, 34]\n",
      "[43, 97, 73]\n",
      "[67, 157, 112]\n"
     ]
    }
   ],
   "source": [
    "# create two matrices\n",
    "X = [[1,2,3],\n",
    "    [4 ,5,6],\n",
    "    [7 ,8,9]]\n",
    "\n",
    "Y = [[1,8,1],\n",
    "    [3,7,3],\n",
    "    [4,5,9]]\n",
    "\n",
    "# create a zero matrix to store the product of matrices\n",
    "result = [[0,0,0],\n",
    "         [0,0,0],\n",
    "         [0,0,0]]\n",
    "\n",
    "for i in range(len(X)):\n",
    "    for j in range(len(Y[0])):\n",
    "        for k in range(len(Y)):\n",
    "             result[i][j] += X[i][k] * Y[k][j]\n",
    "for r in result:\n",
    "    print(r)"
   ]
  },
  {
   "cell_type": "markdown",
   "metadata": {
    "id": "4EjOMLTWzWw6"
   },
   "source": [
    "<table align=\"left\">\n",
    "    <tr>\n",
    "        <td width=\"6%\">\n",
    "            <img src=\"question_icon.png\">\n",
    "        </td>\n",
    "        <td>\n",
    "            <div align=\"left\", style=\"font-size:120%\">\n",
    "                <font color=\"#21618C\">\n",
    "                    <b>68. Write a program to get a list of odd numbers from a list using the filter function</b>\n",
    "                </font>\n",
    "            </div>\n",
    "        </td>\n",
    "    </tr>\n",
    "</table>"
   ]
  },
  {
   "cell_type": "markdown",
   "metadata": {
    "id": "l8WpvydAzWw6"
   },
   "source": [
    "**Use the list given below:**\n",
    "    \n",
    "list1 = [11,12,13,14,15,16,17] "
   ]
  },
  {
   "cell_type": "code",
   "execution_count": null,
   "metadata": {
    "id": "4yD8H357zWw6",
    "outputId": "91f7ac71-2cd8-4f1f-c089-47355fcdcc4b"
   },
   "outputs": [
    {
     "name": "stdout",
     "output_type": "stream",
     "text": [
      "[11, 13, 15, 17]\n"
     ]
    }
   ],
   "source": [
    "# create a list\n",
    "list1 = [11,12,13,14,15,16,17] \n",
    "\n",
    "# filte the odd numbers using lambda function\n",
    "result = list(filter(lambda x: x % 2, list1))\n",
    "print((result)) "
   ]
  },
  {
   "cell_type": "markdown",
   "metadata": {
    "id": "kqE3L6ZIzWw8"
   },
   "source": [
    "<table align=\"left\">\n",
    "    <tr>\n",
    "        <td width=\"6%\">\n",
    "            <img src=\"question_icon.png\">\n",
    "        </td>\n",
    "        <td>\n",
    "            <div align=\"left\", style=\"font-size:120%\">\n",
    "                <font color=\"#21618C\">\n",
    "                    <b>69. Consider N = 3 and S = \"Subject\". Can N and S be concatenated such that their data types do not change? (Give a reason for your answer) </b>\n",
    "                </font>\n",
    "            </div>\n",
    "        </td>\n",
    "    </tr>\n",
    "</table>"
   ]
  },
  {
   "cell_type": "markdown",
   "metadata": {
    "id": "5hitHNigzWw8"
   },
   "source": [
    "**Option:** <br>\n",
    "\n",
    "A. N and S can be concatenated. <br>\n",
    "B. N and S can not be concatenated."
   ]
  },
  {
   "cell_type": "markdown",
   "metadata": {
    "id": "9GlkqEhfzWw9"
   },
   "source": [
    "**Answer: B**<br>\n",
    "**Explanation:** An integer and a string can not be concatenated. To concatenate, convert the integer to a string"
   ]
  },
  {
   "cell_type": "markdown",
   "metadata": {
    "id": "KCIvEC4VzWw9"
   },
   "source": [
    "<table align=\"left\">\n",
    "    <tr>\n",
    "        <td width=\"6%\">\n",
    "            <img src=\"question_icon.png\">\n",
    "        </td>\n",
    "        <td>\n",
    "            <div align=\"left\", style=\"font-size:120%\">\n",
    "                <font color=\"#21618C\">\n",
    "                    <b>70. Write a program to convert a decimal number into a binary number using an in-built function (take decimal number as input from user)</b>\n",
    "                </font>\n",
    "            </div>\n",
    "        </td>\n",
    "    </tr>\n",
    "</table>"
   ]
  },
  {
   "cell_type": "code",
   "execution_count": null,
   "metadata": {
    "id": "VFjtMkPIzWw-",
    "outputId": "5fa57b68-c3e1-42f2-9625-76d0bce1d0de"
   },
   "outputs": [
    {
     "name": "stdout",
     "output_type": "stream",
     "text": [
      "Enter number:12\n"
     ]
    },
    {
     "data": {
      "text/plain": [
       "'0b1100'"
      ]
     },
     "execution_count": 16,
     "metadata": {
      "tags": []
     },
     "output_type": "execute_result"
    }
   ],
   "source": [
    "num = int(input('Enter number:'))\n",
    "bin(num)"
   ]
  },
  {
   "cell_type": "markdown",
   "metadata": {
    "id": "eXIQhd45zWw_"
   },
   "source": [
    "**Explanation:**<br> 1.'bin' function converts decimal number into binary number<br> 2. 'b' stands for binary"
   ]
  },
  {
   "cell_type": "markdown",
   "metadata": {
    "id": "nzC9nTDXzWxA"
   },
   "source": [
    "<table align=\"left\">\n",
    "    <tr>\n",
    "        <td width=\"6%\">\n",
    "            <img src=\"question_icon.png\">\n",
    "        </td>\n",
    "        <td>\n",
    "            <div align=\"left\", style=\"font-size:120%\">\n",
    "                <font color=\"#21618C\">\n",
    "                    <b>71. What will be the output of the following code?</b>\n",
    "                </font>\n",
    "            </div>\n",
    "        </td>\n",
    "    </tr>\n",
    "</table>"
   ]
  },
  {
   "cell_type": "markdown",
   "metadata": {
    "id": "VwEEiq2WzWxA"
   },
   "source": [
    "                                       list1 = [1,2,3,[4]] \n",
    "                                       list2 = list(list1)\n",
    "                                       list1[3][0] = 5\n",
    "                                       list1[1] = 7\n",
    "                                       print(list2)"
   ]
  },
  {
   "cell_type": "markdown",
   "metadata": {
    "id": "c-3-g0YzzWxB"
   },
   "source": [
    "**Options:**<br>\n",
    "\n",
    "A. [1 ,2, 3, [4]]<br>\n",
    "B. [1, 7, 3, [5]]<br>\n",
    "C. [1, 2, 3, [5]]<br>\n",
    "D. [1, 4, 5, [8]]<br>"
   ]
  },
  {
   "cell_type": "markdown",
   "metadata": {
    "id": "9oSSI0GpzWxB"
   },
   "source": [
    "**Answer: C**<br>\n",
    "**Explanation:** The above copy is a type of shallow copy, and only changes made in the sublist ([4]) are reflected in the copied list."
   ]
  },
  {
   "cell_type": "markdown",
   "metadata": {
    "id": "0m2ne8rDzWxG"
   },
   "source": [
    "<table align=\"left\">\n",
    "    <tr>\n",
    "        <td width=\"6%\">\n",
    "            <img src=\"question_icon.png\">\n",
    "        </td>\n",
    "        <td>\n",
    "            <div align=\"left\", style=\"font-size:120%\">\n",
    "                <font color=\"#21618C\">\n",
    "                    <b>72. Write a program to convert a list into tuple  </b>\n",
    "                </font>\n",
    "            </div>\n",
    "        </td>\n",
    "    </tr>\n",
    "</table>"
   ]
  },
  {
   "cell_type": "markdown",
   "metadata": {
    "id": "vU8XXctFzWxH"
   },
   "source": [
    "**Use the list below:**\n",
    "\n",
    "lis = [24, 18, 24, 47, 52]"
   ]
  },
  {
   "cell_type": "code",
   "execution_count": null,
   "metadata": {
    "id": "7nnFSvX5zWxH",
    "outputId": "f09ab347-d38e-41ed-c3a5-b93d725d341a"
   },
   "outputs": [
    {
     "name": "stdout",
     "output_type": "stream",
     "text": [
      "<class 'tuple'>\n",
      "(24, 18, 24, 47, 52)\n"
     ]
    }
   ],
   "source": [
    "lis = [24, 18, 24, 47, 52]\n",
    "converted_lis =  tuple(lis)\n",
    "\n",
    "# check the type \n",
    "print(type(converted_lis))\n",
    "\n",
    "# print the values\n",
    "print(converted_lis)"
   ]
  },
  {
   "cell_type": "markdown",
   "metadata": {
    "id": "iEE2mTotzWxJ"
   },
   "source": [
    "<table align=\"left\">\n",
    "    <tr>\n",
    "        <td width=\"6%\">\n",
    "            <img src=\"question_icon.png\">\n",
    "        </td>\n",
    "        <td>\n",
    "            <div align=\"left\", style=\"font-size:120%\">\n",
    "                <font color=\"#21618C\">\n",
    "                    <b>73. Write a program to compute the sum of first N natural numbers (take input for 'N' from user)</b>\n",
    "                </font>\n",
    "            </div>\n",
    "        </td>\n",
    "    </tr>\n",
    "</table>"
   ]
  },
  {
   "cell_type": "code",
   "execution_count": null,
   "metadata": {
    "id": "61jGQg-fzWxK",
    "outputId": "86676191-0c98-4733-e19a-0920f688357f"
   },
   "outputs": [
    {
     "name": "stdout",
     "output_type": "stream",
     "text": [
      "Enter a number: 9\n",
      "The sum of first 9 natural numbers is 45\n"
     ]
    }
   ],
   "source": [
    "N = int(input(\"Enter a number: \"))\n",
    "\n",
    "# set the sum to 0\n",
    "sum_N = 0\n",
    "i = 0\n",
    "\n",
    "# use the while loop to add the numbers\n",
    "while(i < N+1):\n",
    "    sum_N = sum_N + i\n",
    "    i = i+1\n",
    "print(\"The sum of first %d natural numbers is %d\" %(N, sum_N))"
   ]
  },
  {
   "cell_type": "markdown",
   "metadata": {
    "id": "IYVgJ49qzWxM"
   },
   "source": [
    "<table align=\"left\">\n",
    "    <tr>\n",
    "        <td width=\"6%\">\n",
    "            <img src=\"question_icon.png\">\n",
    "        </td>\n",
    "        <td>\n",
    "            <div align=\"left\", style=\"font-size:120%\">\n",
    "                <font color=\"#21618C\">\n",
    "                    <b>74. What will be the output of the following code? </b>\n",
    "                </font>\n",
    "            </div>\n",
    "        </td>\n",
    "    </tr>\n",
    "</table>"
   ]
  },
  {
   "cell_type": "markdown",
   "metadata": {
    "id": "qgc0bBA0zWxM"
   },
   "source": [
    "                            a = {'geeks' : 1, 'gfg' : 2} \n",
    "                            b = {'geeks' : 2, 'gfg' : 1} \n",
    "                            print (a == b)"
   ]
  },
  {
   "cell_type": "markdown",
   "metadata": {
    "id": "51Ny0mkLzWxM"
   },
   "source": [
    "**Options:**<br>\n",
    "\n",
    "A. True<br>\n",
    "B. False<br>\n",
    "C. Error<br>\n",
    "D. None"
   ]
  },
  {
   "cell_type": "markdown",
   "metadata": {
    "id": "y1ieOiPqzWxN"
   },
   "source": [
    "**Answer: B**"
   ]
  },
  {
   "cell_type": "markdown",
   "metadata": {
    "id": "WD3J_dGjzWxN"
   },
   "source": [
    "<table align=\"left\">\n",
    "    <tr>\n",
    "        <td width=\"6%\">\n",
    "            <img src=\"question_icon.png\">\n",
    "        </td>\n",
    "        <td>\n",
    "            <div align=\"left\", style=\"font-size:120%\">\n",
    "                <font color=\"#21618C\">\n",
    "                    <b>75. Write a program to print and remove every fourth number from a list of numbers until the list contains only one element </b>\n",
    "                </font>\n",
    "            </div>\n",
    "        </td>\n",
    "    </tr>\n",
    "</table>"
   ]
  },
  {
   "cell_type": "markdown",
   "metadata": {
    "id": "qtCNY4LJzWxR"
   },
   "source": [
    "**Use the list given below:**\n",
    "\n",
    "numbers = [41, 17, 25, 45, 3, 10, 99, 22, 24, 2]"
   ]
  },
  {
   "cell_type": "code",
   "execution_count": null,
   "metadata": {
    "id": "D7-IQSyRzWxR",
    "outputId": "f5bf358c-a378-4aef-a74c-2526724928fb"
   },
   "outputs": [
    {
     "name": "stdout",
     "output_type": "stream",
     "text": [
      "45\n",
      "22\n",
      "17\n",
      "99\n",
      "25\n",
      "2\n",
      "24\n",
      "41\n",
      "10\n"
     ]
    }
   ],
   "source": [
    "def remove_nums(int_list):\n",
    "  #list starts with 0 index\n",
    "    position = 4 - 1 \n",
    "    idx = 0\n",
    "    len_list = (len(int_list))\n",
    "    while len_list>1:\n",
    "        idx = (position+idx)%len_list\n",
    "        print(int_list.pop(idx))\n",
    "        len_list -= 1\n",
    "\n",
    "# call the function    \n",
    "numbers = [41, 17, 25, 45, 3, 10, 99, 22, 24, 2]\n",
    "remove_nums(numbers)"
   ]
  },
  {
   "cell_type": "markdown",
   "metadata": {
    "id": "7kGXjli_zWxU"
   },
   "source": [
    "<table align=\"left\">\n",
    "    <tr>\n",
    "        <td width=\"6%\">\n",
    "            <img src=\"question_icon.png\">\n",
    "        </td>\n",
    "        <td>\n",
    "            <div align=\"left\", style=\"font-size:120%\">\n",
    "                <font color=\"#21618C\">\n",
    "                    <b>76. What will be the output of the following code? </b>\n",
    "                </font>\n",
    "            </div>\n",
    "        </td>\n",
    "    </tr>\n",
    "</table>"
   ]
  },
  {
   "cell_type": "markdown",
   "metadata": {
    "id": "sUkdVGFpzWxV"
   },
   "source": [
    "                            A = 34578\n",
    "                            B = 3580\n",
    "                            res1 = A + B\n",
    "                            res1 /= 2\n",
    "                            res1"
   ]
  },
  {
   "cell_type": "markdown",
   "metadata": {
    "id": "UgT5PMQ1zWxV"
   },
   "source": [
    "**Options:**<br>\n",
    "\n",
    "A. 1907<br>\n",
    "B. 19079<br>\n",
    "C. 19079.5<br>\n",
    "D. None"
   ]
  },
  {
   "cell_type": "markdown",
   "metadata": {
    "id": "x55VxYxUzWxW"
   },
   "source": [
    "**Answer: B**"
   ]
  },
  {
   "cell_type": "markdown",
   "metadata": {
    "id": "np6HfqoQzWxX"
   },
   "source": [
    "<table align=\"left\">\n",
    "    <tr>\n",
    "        <td width=\"6%\">\n",
    "            <img src=\"question_icon.png\">\n",
    "        </td>\n",
    "        <td>\n",
    "            <div align=\"left\", style=\"font-size:120%\">\n",
    "                <font color=\"#21618C\">\n",
    "                    <b>77. What will be the output of the following code? </b>\n",
    "                </font>\n",
    "            </div>\n",
    "        </td>\n",
    "    </tr>\n",
    "</table>"
   ]
  },
  {
   "cell_type": "markdown",
   "metadata": {
    "id": "BLUBHtSPzWxX"
   },
   "source": [
    "                        tup = (2,4,5, \"AB\")\n",
    "                        tup[3] = \"J\"\n",
    "                        tup"
   ]
  },
  {
   "cell_type": "markdown",
   "metadata": {
    "id": "R6nMSIqRzWxZ"
   },
   "source": [
    "**Options:**<br>\n",
    "\n",
    "A. tup = (2,4,5, \"J\")<br>\n",
    "B. tup = (2,4,\"J\", \"AB\")<br>\n",
    "C. It will throw an error<br>\n",
    "D. There will be no output printed"
   ]
  },
  {
   "cell_type": "markdown",
   "metadata": {
    "id": "0IbegLQwzWxZ"
   },
   "source": [
    "**Answer: C**<br>\n",
    "**Explanation:** It will throw an error since tuple is not mutable."
   ]
  },
  {
   "cell_type": "markdown",
   "metadata": {
    "id": "Ash35nXBzWxa"
   },
   "source": [
    "<table align=\"left\">\n",
    "    <tr>\n",
    "        <td width=\"6%\">\n",
    "            <img src=\"question_icon.png\">\n",
    "        </td>\n",
    "        <td>\n",
    "            <div align=\"left\", style=\"font-size:120%\">\n",
    "                <font color=\"#21618C\">\n",
    "                    <b>78. Use a list comprehension to find primes in range 2 to 100</b>\n",
    "                </font>\n",
    "            </div>\n",
    "        </td>\n",
    "    </tr>\n",
    "</table>"
   ]
  },
  {
   "cell_type": "code",
   "execution_count": null,
   "metadata": {
    "id": "jYYy9YPWzWxa",
    "outputId": "59ce7931-c7a4-42c6-f709-8bd330b92a87"
   },
   "outputs": [
    {
     "name": "stdout",
     "output_type": "stream",
     "text": [
      "[2, 3, 5, 7, 11, 13, 17, 19, 23, 29, 31, 37, 41, 43, 47, 53, 59, 61, 67, 71, 73, 79, 83, 89, 97]\n"
     ]
    }
   ],
   "source": [
    "consonants = [j for i in range(2, 8) for j in range(i*2, 100, i)] \n",
    "# to extract prime numbers from 2 to 100\n",
    "primes = [x for x in range(2, 100) if x not in consonants] \n",
    "print (primes)"
   ]
  },
  {
   "cell_type": "markdown",
   "metadata": {
    "id": "XM2jAZELzWxd"
   },
   "source": [
    "<table align=\"left\">\n",
    "    <tr>\n",
    "        <td width=\"6%\">\n",
    "            <img src=\"question_icon.png\">\n",
    "        </td>\n",
    "        <td>\n",
    "            <div align=\"left\", style=\"font-size:120%\">\n",
    "                <font color=\"#21618C\">\n",
    "                    <b>79. Consider two lists X = [23, 65, 78] and Y = [2, 3]. Which of the following is the output for X.append(Y) and X.extend(Y) respectively </b>\n",
    "                </font>\n",
    "            </div>\n",
    "        </td>\n",
    "    </tr>\n",
    "</table>"
   ]
  },
  {
   "cell_type": "markdown",
   "metadata": {
    "id": "7Wk1Bu4bzWxd"
   },
   "source": [
    "**Options:**<br>\n",
    "\n",
    "A. [23, 65, 78, [2, 3]] and [23, 65, 78, 2, 3] <br>\n",
    "B. Both will give the same output [23, 65, 78, [2, 3]]<br>\n",
    "C. Both will give the same output [23, 65, 78, 2, 3]<br>\n",
    "D. [23, 65, 78, 2, 3] and [23, 65, 78, [2, 3]]<br>"
   ]
  },
  {
   "cell_type": "markdown",
   "metadata": {
    "id": "lTfXf3cKzWxe"
   },
   "source": [
    "**Answer: A**"
   ]
  },
  {
   "cell_type": "markdown",
   "metadata": {
    "id": "ccQfO93lzWxe"
   },
   "source": [
    "<table align=\"left\">\n",
    "    <tr>\n",
    "        <td width=\"6%\">\n",
    "            <img src=\"question_icon.png\">\n",
    "        </td>\n",
    "        <td>\n",
    "            <div align=\"left\", style=\"font-size:120%\">\n",
    "                <font color=\"#21618C\">\n",
    "                    <b>80. Write a program to generate harmonic progression with the first term as 1 and difference 2. (up to 10 terms)  </b>\n",
    "                </font>\n",
    "            </div>\n",
    "        </td>\n",
    "    </tr>\n",
    "</table>"
   ]
  },
  {
   "cell_type": "code",
   "execution_count": null,
   "metadata": {
    "id": "XSsM1hY2zWxf",
    "outputId": "1ba1e714-958a-4b9c-aedb-e1cc14926d67"
   },
   "outputs": [
    {
     "name": "stdout",
     "output_type": "stream",
     "text": [
      "The harmonic preogression is: [1.0, 1.7320508075688772, 2.23606797749979, 2.6457513110645907, 3.0, 3.3166247903554, 3.605551275463989, 3.872983346207417, 4.123105625617661, 4.358898943540674]\n"
     ]
    }
   ],
   "source": [
    "a = 1\n",
    "d = 2\n",
    "AP = [a]\n",
    "i=1\n",
    "while i < 10: \n",
    "    b = a + d  \n",
    "    a = b\n",
    "    i +=1\n",
    "    AP.append(b) \n",
    "\n",
    "# sequence of numbers is called a harmonic progression if the reciprocal of the terms are in AP. \n",
    "# in simple terms, a,b,c,d,e,f are in HP if 1/a, 1/b, 1/c, 1/d, 1/e, 1/f are in AP. \n",
    "HP = [x**0.5 for x in AP]\n",
    "\n",
    "print (\"The harmonic preogression is:\" , HP)"
   ]
  },
  {
   "cell_type": "markdown",
   "metadata": {
    "id": "tyEPmmPkzWxi"
   },
   "source": [
    "\n",
    "<table align=\"left\">\n",
    "    <tr>\n",
    "        <td width=\"6%\">\n",
    "            <img src=\"question_icon.png\">\n",
    "        </td>\n",
    "        <td>\n",
    "            <div align=\"left\", style=\"font-size:120%\">\n",
    "                <font color=\"#21618C\">\n",
    "                    <b>81. What will be the output of the following code?</b>\n",
    "                </font>\n",
    "            </div>\n",
    "        </td>\n",
    "    </tr>\n",
    "</table>"
   ]
  },
  {
   "cell_type": "markdown",
   "metadata": {
    "id": "9JcpiLARzWxi"
   },
   "source": [
    "                                 for x in set('pqr'):\n",
    "                                      print(x*2)"
   ]
  },
  {
   "cell_type": "markdown",
   "metadata": {
    "id": "u4obHOOizWxi"
   },
   "source": [
    "**Options-**<br>\n",
    "\n",
    "A. pp<br>\n",
    "&nbsp; &nbsp;  rr<br>\n",
    "&nbsp; &nbsp;   qq<br>\n",
    "   \n",
    "B. pqr<br>\n",
    "  &nbsp; &nbsp; pqr<br>\n",
    "  \n",
    "C. pqrpqr<br>\n",
    "\n",
    "D. ppqqrr"
   ]
  },
  {
   "cell_type": "markdown",
   "metadata": {
    "id": "1Z6KVeBWzWxj"
   },
   "source": [
    "**Answer: A**<br>\n",
    "**Explanation:** The code shown above prints each element of the set twice separately."
   ]
  },
  {
   "cell_type": "markdown",
   "metadata": {
    "id": "83is0NfNzWxj"
   },
   "source": [
    "<table align=\"left\">\n",
    "    <tr>\n",
    "        <td width=\"6%\">\n",
    "            <img src=\"question_icon.png\">\n",
    "        </td>\n",
    "        <td>\n",
    "            <div align=\"left\", style=\"font-size:120%\">\n",
    "                <font color=\"#21618C\">\n",
    "                    <b>82. Create a dictionary with first five positive odd integers as keys and their cubes as values </b>\n",
    "                </font>\n",
    "            </div>\n",
    "        </td>\n",
    "    </tr>\n",
    "</table>"
   ]
  },
  {
   "cell_type": "code",
   "execution_count": null,
   "metadata": {
    "id": "3V_3kwBczWxj",
    "outputId": "68e5ccc0-8e07-4fd9-b732-f400bcf5369c"
   },
   "outputs": [
    {
     "name": "stdout",
     "output_type": "stream",
     "text": [
      "Created dictionary: {1: 1, 3: 27, 5: 125, 7: 343, 9: 729}\n"
     ]
    }
   ],
   "source": [
    "# create an empty dictionary\n",
    "cube = dict()\n",
    "for i in range(1,10,2):\n",
    "    cube[i]=i**3\n",
    "print('Created dictionary:', cube)"
   ]
  },
  {
   "cell_type": "markdown",
   "metadata": {
    "id": "IHFNINF3zWxl"
   },
   "source": [
    "<table align=\"left\">\n",
    "    <tr>\n",
    "        <td width=\"6%\">\n",
    "            <img src=\"question_icon.png\">\n",
    "        </td>\n",
    "        <td>\n",
    "            <div align=\"left\", style=\"font-size:120%\">\n",
    "                <font color=\"#21618C\">\n",
    "                    <b>83. Write a program that takes two dictionaries and concatenates them into one dictionary</b>\n",
    "                </font>\n",
    "            </div>\n",
    "        </td>\n",
    "    </tr>\n",
    "</table>\n"
   ]
  },
  {
   "cell_type": "markdown",
   "metadata": {
    "id": "1LHdozOMzWxm"
   },
   "source": [
    "**Use the below dictionaries:**\n",
    "\n",
    "dictionary_1 = {'A':1, 'B':2}<br>\n",
    "\n",
    "dictionary_2 = {'C':3}"
   ]
  },
  {
   "cell_type": "code",
   "execution_count": null,
   "metadata": {
    "id": "ilb3MHWNzWxm",
    "outputId": "2934b012-e037-4e08-d08f-ee1508219011"
   },
   "outputs": [
    {
     "name": "stdout",
     "output_type": "stream",
     "text": [
      "Concatenated dictionary is: {'A': 1, 'B': 2, 'C': 3}\n"
     ]
    }
   ],
   "source": [
    "dictionary_1={'A':1, 'B':2}\n",
    "dictionary_2={'C':3}\n",
    "\n",
    "# use update to concatenate two dictionaries \n",
    "dictionary_1.update(dictionary_2)\n",
    "print(\"Concatenated dictionary is:\", dictionary_1)"
   ]
  },
  {
   "cell_type": "markdown",
   "metadata": {
    "id": "r65Il3tnzWxo"
   },
   "source": [
    "<table align=\"left\">\n",
    "    <tr>\n",
    "        <td width=\"6%\">\n",
    "            <img src=\"question_icon.png\">\n",
    "        </td>\n",
    "        <td>\n",
    "            <div align=\"left\", style=\"font-size:120%\">\n",
    "                <font color=\"#21618C\">\n",
    "                    <b>84. What will be the output of the following code? </b>\n",
    "                </font>\n",
    "            </div>\n",
    "        </td>\n",
    "    </tr>\n",
    "</table>"
   ]
  },
  {
   "cell_type": "markdown",
   "metadata": {
    "id": "vfXeooGozWxp"
   },
   "source": [
    "                                print(\"python\" != \"PyThON\")"
   ]
  },
  {
   "cell_type": "markdown",
   "metadata": {
    "id": "0yZ89VQDzWxp"
   },
   "source": [
    "**Options:**<br>\n",
    "\n",
    "A. False<br>\n",
    "B. True<br>\n",
    "C. None<br>\n",
    "D. Error"
   ]
  },
  {
   "cell_type": "markdown",
   "metadata": {
    "id": "isebT7TVzWxp"
   },
   "source": [
    "**Answer: B**"
   ]
  },
  {
   "cell_type": "markdown",
   "metadata": {
    "id": "DwwpJBQZzWxq"
   },
   "source": [
    "<table align=\"left\">\n",
    "    <tr>\n",
    "        <td width=\"6%\">\n",
    "            <img src=\"question_icon.png\">\n",
    "        </td>\n",
    "        <td>\n",
    "            <div align=\"left\", style=\"font-size:120%\">\n",
    "                <font color=\"#21618C\">\n",
    "                    <b>85. Write a function to get a single string from two given strings, separated by a space and swap the first character of each string </b>\n",
    "                </font>\n",
    "            </div>\n",
    "        </td>\n",
    "    </tr>\n",
    "</table>"
   ]
  },
  {
   "cell_type": "markdown",
   "metadata": {
    "id": "IICW6uNczWxq"
   },
   "source": [
    "**Use the strings given below:**\n",
    "\n",
    "str1 = \"anaconda\"\n",
    "\n",
    "str2 = \"spyder\""
   ]
  },
  {
   "cell_type": "code",
   "execution_count": null,
   "metadata": {
    "id": "CtttHV8kzWxq",
    "outputId": "2b43ba21-49b5-4d2d-8bba-0fc6b56be691"
   },
   "outputs": [
    {
     "name": "stdout",
     "output_type": "stream",
     "text": [
      "\"snaconda apyder\"\n"
     ]
    }
   ],
   "source": [
    "str1 = \"anaconda\"\n",
    "str2 = \"spyder\"\n",
    "\n",
    "def chars_mix_up(str1, str2):\n",
    "    new_str1 = str2[:1] + str1[1:]\n",
    "    new_str2 = str1[:1] + str2[1:]\n",
    "\n",
    "    return '\"'+ str(new_str1) + ' ' + str(new_str2) + '\"'\n",
    "\n",
    "# call the function\n",
    "print(chars_mix_up(str1, str2))"
   ]
  },
  {
   "cell_type": "markdown",
   "metadata": {
    "id": "-Ap9V1DLzWxs"
   },
   "source": [
    "<table align=\"left\">\n",
    "    <tr>\n",
    "        <td width=\"6%\">\n",
    "            <img src=\"question_icon.png\">\n",
    "        </td>\n",
    "        <td>\n",
    "            <div align=\"left\", style=\"font-size:120%\">\n",
    "                <font color=\"#21618C\">\n",
    "                    <b>86. What will be the output of the following code? </b>\n",
    "                </font>\n",
    "            </div>\n",
    "        </td>\n",
    "    </tr>\n",
    "</table>"
   ]
  },
  {
   "cell_type": "markdown",
   "metadata": {
    "id": "VRK6ZWSozWxs"
   },
   "source": [
    "                             def func(message, num = 1):\n",
    "                                 print(message * num)\n",
    " \n",
    "                                 func('Hello', 2)\n",
    "                                 func('Python')"
   ]
  },
  {
   "cell_type": "markdown",
   "metadata": {
    "id": "HE1Wvg7YzWxt"
   },
   "source": [
    "**Options:**<br>\n",
    "\n",
    "A. HelloHello<br>\n",
    "&nbsp; &nbsp; Python<br>\n",
    "B. Hello Hello<br>\n",
    "&nbsp; &nbsp; Python<br>\n",
    "C. Hello Hello Python<br>\n",
    "D. None<br>"
   ]
  },
  {
   "cell_type": "markdown",
   "metadata": {
    "id": "cu3IPtYjzWxt"
   },
   "source": [
    "**Answer: A**"
   ]
  },
  {
   "cell_type": "markdown",
   "metadata": {
    "id": "7vrbL3KQzWxt"
   },
   "source": [
    "<table align=\"left\">\n",
    "    <tr>\n",
    "        <td width=\"6%\">\n",
    "            <img src=\"question_icon.png\">\n",
    "        </td>\n",
    "        <td>\n",
    "            <div align=\"left\", style=\"font-size:120%\">\n",
    "                <font color=\"#21618C\">\n",
    "                    <b>87. Which of the following code will not create a list </b>\n",
    "                </font>\n",
    "            </div>\n",
    "        </td>\n",
    "    </tr>\n",
    "</table>"
   ]
  },
  {
   "cell_type": "markdown",
   "metadata": {
    "id": "caNd5ILAzWxu"
   },
   "source": [
    "                            A. lis = list(set())\n",
    "                            B. lis = ()\n",
    "                            C. lis = []\n",
    "                            D. lis = list[]"
   ]
  },
  {
   "cell_type": "markdown",
   "metadata": {
    "id": "8ZwqgU9azWxu"
   },
   "source": [
    "**Answer: D**"
   ]
  },
  {
   "cell_type": "markdown",
   "metadata": {
    "id": "qwzIqRruzWxu"
   },
   "source": [
    "<table align=\"left\">\n",
    "    <tr>\n",
    "        <td width=\"6%\">\n",
    "            <img src=\"question_icon.png\">\n",
    "        </td>\n",
    "        <td>\n",
    "            <div align=\"left\", style=\"font-size:120%\">\n",
    "                <font color=\"#21618C\">\n",
    "                    <b>88. Write a program to generate geometric progression with the first term as 1 and ratio to be 3. (up to 10 terms) </b>\n",
    "                </font>\n",
    "            </div>\n",
    "        </td>\n",
    "    </tr>\n",
    "</table>"
   ]
  },
  {
   "cell_type": "code",
   "execution_count": null,
   "metadata": {
    "id": "d9vAvRCVzWxv",
    "outputId": "1e527b85-4abf-4242-b5cf-c9f0b4980b5d"
   },
   "outputs": [
    {
     "name": "stdout",
     "output_type": "stream",
     "text": [
      "The geometric preogression is: [1, 3, 9, 27, 81, 243, 729, 2187, 6561, 19683]\n"
     ]
    }
   ],
   "source": [
    "# enter the first term and ration\n",
    "a = 1 \n",
    "r = 3\n",
    "\n",
    "# create a list to store all the terms of geometric progression\n",
    "GP = [a]\n",
    "i=1\n",
    "while i < 10: \n",
    "    b = a * r \n",
    "    a = b\n",
    "    i +=1\n",
    "    GP.append(b) \n",
    "    \n",
    "print (\"The geometric preogression is:\" , GP) "
   ]
  },
  {
   "cell_type": "markdown",
   "metadata": {
    "id": "UeEtg5_NzWxx"
   },
   "source": [
    "<table align=\"left\">\n",
    "    <tr>\n",
    "        <td width=\"6%\">\n",
    "            <img src=\"question_icon.png\">\n",
    "        </td>\n",
    "        <td>\n",
    "            <div align=\"left\", style=\"font-size:120%\">\n",
    "                <font color=\"#21618C\">\n",
    "                    <b>89. What is the output of the following code?</b>\n",
    "                </font>\n",
    "            </div>\n",
    "        </td>\n",
    "    </tr>\n",
    "</table>"
   ]
  },
  {
   "cell_type": "markdown",
   "metadata": {
    "id": "zhyQGSm7zWxx"
   },
   "source": [
    "                                     for i in [1, 0]:\n",
    "                                          print(i+1)"
   ]
  },
  {
   "cell_type": "markdown",
   "metadata": {
    "id": "nWVvMvc7zWxx"
   },
   "source": [
    "**Options:**<br>\n",
    "\n",
    "A. 2<br>\n",
    "&nbsp;&nbsp;&nbsp;&nbsp;1<br>\n",
    "B. [2, 1]  <br>\n",
    "C. [1, 2] <br>\n",
    "D. 1<br>\n",
    "&nbsp;&nbsp;&nbsp;&nbsp;&nbsp;0<br>            "
   ]
  },
  {
   "cell_type": "markdown",
   "metadata": {
    "id": "sgVypeMozWxy"
   },
   "source": [
    "**Answer: A**"
   ]
  },
  {
   "cell_type": "markdown",
   "metadata": {
    "id": "LWpzTbdazWxy"
   },
   "source": [
    "<table align=\"left\">\n",
    "    <tr>\n",
    "        <td width=\"6%\">\n",
    "            <img src=\"question_icon.png\">\n",
    "        </td>\n",
    "        <td>\n",
    "            <div align=\"left\", style=\"font-size:120%\">\n",
    "                <font color=\"#21618C\">\n",
    "                    <b>90. How can you change <br>&nbsp;&nbsp;&nbsp;&nbsp;&nbsp; num = {‘one’: 1, ‘two’: 3} to num = {‘one’: 1, ‘two’: 2} </b>\n",
    "                </font>\n",
    "            </div>\n",
    "        </td>\n",
    "    </tr>\n",
    "</table>"
   ]
  },
  {
   "cell_type": "markdown",
   "metadata": {
    "id": "s_O_b86tzWxy"
   },
   "source": [
    "**Answer: num['two'] = 2**"
   ]
  },
  {
   "cell_type": "markdown",
   "metadata": {
    "id": "0aGd8cuRzWxz"
   },
   "source": [
    "\n",
    "<table align=\"left\">\n",
    "    <tr>\n",
    "        <td width=\"6%\">\n",
    "            <img src=\"question_icon.png\">\n",
    "        </td>\n",
    "        <td>\n",
    "            <div align=\"left\", style=\"font-size:120%\">\n",
    "                <font color=\"#21618C\">\n",
    "                    <b> 91. Suppose Dictionary = {'deepak':4, 'anil':5}, which of the following command we use to remove the entry for 'deepak'?</b>\n",
    "                </font>\n",
    "            </div>\n",
    "        </td> \n",
    "    </tr>\n",
    "</table>\n",
    "\n"
   ]
  },
  {
   "cell_type": "markdown",
   "metadata": {
    "id": "y-UyiSoFzWxz"
   },
   "source": [
    "**Options-**<br>\n",
    "\n",
    "A. Dictionary.delete(“deepak”:40)<br>\n",
    "B. Dictionary.delete(“deepak”)<br>\n",
    "C. del(Dictionary[“deepak”]) <br>\n",
    "D. del(Dictionary(“anil”:40))<br>\n"
   ]
  },
  {
   "cell_type": "markdown",
   "metadata": {
    "id": "5oP8fQykzWx2"
   },
   "source": [
    "**Answer: C**"
   ]
  },
  {
   "cell_type": "markdown",
   "metadata": {
    "id": "ZD-cj3f6zWx3"
   },
   "source": [
    "<table align=\"left\">\n",
    "    <tr>\n",
    "        <td width=\"6%\">\n",
    "            <img src=\"question_icon.png\">\n",
    "        </td>\n",
    "        <td>\n",
    "            <div align=\"left\", style=\"font-size:120%\">\n",
    "                <font color=\"#21618C\">\n",
    "                    <b>92. Write a program to calculate the sum of marks in the given dictionary  </b>\n",
    "                </font>\n",
    "            </div>\n",
    "        </td>\n",
    "    </tr>\n",
    "</table>"
   ]
  },
  {
   "cell_type": "markdown",
   "metadata": {
    "id": "SBxBLoogzWx4"
   },
   "source": [
    "**Use the dictionary given below:**<br>\n",
    "\n",
    "Marks in 5 sujects of a student are given in the dictionary<br>\n",
    "marks = {'Maths': 75, 'Chemistry': 87, 'Physics': 77, 'Biology': 92, 'English': 96 }"
   ]
  },
  {
   "cell_type": "code",
   "execution_count": null,
   "metadata": {
    "id": "jDZYa8pTzWx4",
    "outputId": "976eecd7-ce06-4d02-a8b4-a4efb92e2b1e"
   },
   "outputs": [
    {
     "name": "stdout",
     "output_type": "stream",
     "text": [
      "Sum= 427\n"
     ]
    }
   ],
   "source": [
    "marks = {'Maths': 75, 'Chemistry': 87, 'Physics': 77, 'Biology': 92, 'English': 96 }\n",
    "\n",
    "# set the sum to zero\n",
    "sum=0\n",
    "for i in marks:\n",
    "    sum += marks[i]\n",
    "print('Sum=',sum)"
   ]
  },
  {
   "cell_type": "markdown",
   "metadata": {
    "id": "CRBPXpglzWx6"
   },
   "source": [
    "**Explanation:** Values can be accessed by 'dictionary_name[key_name]' "
   ]
  },
  {
   "cell_type": "markdown",
   "metadata": {
    "id": "1e-9NM1izWx6"
   },
   "source": [
    "<table align=\"left\">\n",
    "    <tr>\n",
    "        <td width=\"6%\">\n",
    "            <img src=\"question_icon.png\">\n",
    "        </td>\n",
    "        <td>\n",
    "            <div align=\"left\", style=\"font-size:120%\">\n",
    "                <font color=\"#21618C\">\n",
    "                    <b> 93. Write a program to multiply all the values in a dictionary</b>\n",
    "                </font>\n",
    "            </div>\n",
    "        </td>\n",
    "    </tr>\n",
    "</table>\n"
   ]
  },
  {
   "cell_type": "markdown",
   "metadata": {
    "id": "em2dHoVCzWx7"
   },
   "source": [
    "**Use the dictionary given below:**\n",
    "\n",
    "D = {'A': 57, 'B': 100, 'C': 84}"
   ]
  },
  {
   "cell_type": "code",
   "execution_count": null,
   "metadata": {
    "id": "WHsiP_J5zWx7",
    "outputId": "c2821454-dfd8-445c-b3fe-5b739f80daf0"
   },
   "outputs": [
    {
     "name": "stdout",
     "output_type": "stream",
     "text": [
      "478800\n"
     ]
    }
   ],
   "source": [
    "D = {'A': 57, 'B': 100, 'C': 84}\n",
    "total = 1\n",
    "for i in D:    \n",
    "    total = total*D[i]\n",
    "print(total)"
   ]
  },
  {
   "cell_type": "markdown",
   "metadata": {
    "id": "2jMYyGcZzWx9"
   },
   "source": [
    "<table align=\"left\">\n",
    "    <tr>\n",
    "        <td width=\"6%\">\n",
    "            <img src=\"question_icon.png\">\n",
    "        </td>\n",
    "        <td>\n",
    "            <div align=\"left\", style=\"font-size:120%\">\n",
    "                <font color=\"#21618C\">\n",
    "                    <b>94. What is the value of the expression 120 // 20? </b>\n",
    "                </font>\n",
    "            </div>\n",
    "        </td>\n",
    "    </tr>\n",
    "</table>"
   ]
  },
  {
   "cell_type": "markdown",
   "metadata": {
    "id": "xzkJ0qrJzWx9"
   },
   "source": [
    "**Options:**<br>\n",
    "\n",
    "A. 6<br>\n",
    "B. 6.0<br>\n",
    "C. 06<br>\n",
    "D. None"
   ]
  },
  {
   "cell_type": "markdown",
   "metadata": {
    "id": "8gMaByQizWx-"
   },
   "source": [
    "**Answer: A**"
   ]
  },
  {
   "cell_type": "markdown",
   "metadata": {
    "id": "UjwaIyNLzWx-"
   },
   "source": [
    "<table align=\"left\">\n",
    "    <tr>\n",
    "        <td width=\"6%\">\n",
    "            <img src=\"question_icon.png\">\n",
    "        </td>\n",
    "        <td>\n",
    "            <div align=\"left\", style=\"font-size:120%\">\n",
    "                <font color=\"#21618C\">\n",
    "                    <b>95. Write a function to check whether the given number is prime or not (take input of number from user)</b>\n",
    "                </font>\n",
    "            </div>\n",
    "        </td>\n",
    "    </tr>\n",
    "</table> "
   ]
  },
  {
   "cell_type": "code",
   "execution_count": null,
   "metadata": {
    "id": "q9kyaamSzWx_",
    "outputId": "b28a8c07-8f04-4831-c932-e2082646e53c"
   },
   "outputs": [
    {
     "name": "stdout",
     "output_type": "stream",
     "text": [
      "Enter number:37\n",
      "37 is Prime\n"
     ]
    }
   ],
   "source": [
    "def is_prime(n):\n",
    "    flg=0\n",
    "    i=2\n",
    "    while n>i:\n",
    "        if n%i==0:\n",
    "            flg=1\n",
    "        i+=1\n",
    "    if flg==0:\n",
    "        print(n,'is Prime')\n",
    "    else:\n",
    "        print(n,'is not prime')\n",
    "\n",
    "# call the function\n",
    "n = int(input('Enter number:'))\n",
    "is_prime(n)"
   ]
  },
  {
   "cell_type": "markdown",
   "metadata": {
    "id": "FCTJ2otjzWyE"
   },
   "source": [
    "<table align=\"left\">\n",
    "    <tr>\n",
    "        <td width=\"6%\">\n",
    "            <img src=\"question_icon.png\">\n",
    "        </td>\n",
    "        <td>\n",
    "            <div align=\"left\", style=\"font-size:120%\">\n",
    "                <font color=\"#21618C\">\n",
    "                    <b>96. Define a function using a while loop to print a string 3 times? (take string input from user)</b>\n",
    "                </font>\n",
    "            </div>\n",
    "        </td>\n",
    "    </tr>\n",
    "</table>"
   ]
  },
  {
   "cell_type": "code",
   "execution_count": null,
   "metadata": {
    "id": "Ao8Ol7ngzWyF",
    "outputId": "bf6b4929-12af-49cb-e145-46a22ffb21db",
    "scrolled": true
   },
   "outputs": [
    {
     "name": "stdout",
     "output_type": "stream",
     "text": [
      "python\n",
      "python\n",
      "python\n"
     ]
    }
   ],
   "source": [
    "def myfunc(text, num):\n",
    "    while num > 0:\n",
    "        print(text)\n",
    "        num = num -1\n",
    "\n",
    "# call the function\n",
    "myfunc(\"python\", 3)"
   ]
  },
  {
   "cell_type": "markdown",
   "metadata": {
    "id": "y6wv0aOSzWyH"
   },
   "source": [
    "<table align=\"left\">\n",
    "    <tr>\n",
    "        <td width=\"6%\">\n",
    "            <img src=\"question_icon.png\">\n",
    "        </td>\n",
    "        <td>\n",
    "            <div align=\"left\", style=\"font-size:120%\">\n",
    "                <font color=\"#21618C\">\n",
    "                    <b>97. What will be the output of the following code? </b>\n",
    "                </font>\n",
    "            </div>\n",
    "        </td>\n",
    "    </tr>\n",
    "</table>"
   ]
  },
  {
   "cell_type": "markdown",
   "metadata": {
    "id": "YZex55eWzWyH"
   },
   "source": [
    "                                  def printLine(text):\n",
    "                                      print(text, 'is cool.')\n",
    "\n",
    "                                  printLine('Alexander')"
   ]
  },
  {
   "cell_type": "markdown",
   "metadata": {
    "id": "2Bf7rO8YzWyH"
   },
   "source": [
    "**Options:**<br>\n",
    "\n",
    "A. Alexander<br>\n",
    "B. is cool.<br>\n",
    "C. text, 'is cool.'<br> \n",
    "D. Alexander is cool."
   ]
  },
  {
   "cell_type": "markdown",
   "metadata": {
    "id": "VKnIxSDzzWyI"
   },
   "source": [
    "**Answer: D**"
   ]
  },
  {
   "cell_type": "markdown",
   "metadata": {
    "id": "HoaT4RtqzWyI"
   },
   "source": [
    "<table align=\"left\">\n",
    "    <tr>\n",
    "        <td width=\"6%\">\n",
    "            <img src=\"question_icon.png\">\n",
    "        </td>\n",
    "        <td>\n",
    "            <div align=\"left\", style=\"font-size:120%\">\n",
    "                <font color=\"#21618C\">\n",
    "                    <b>98. Write a program to find maximum and the minimum value from a given set </b>\n",
    "                </font>\n",
    "            </div>\n",
    "        </td>\n",
    "    </tr>\n",
    "</table>\n",
    "\n"
   ]
  },
  {
   "cell_type": "markdown",
   "metadata": {
    "id": "u54J0ZzkzWyI"
   },
   "source": [
    "**Use the elements:**\n",
    "    \n",
    "5, 10, 3, 15, 2, 20, 10, 5, 4, 3"
   ]
  },
  {
   "cell_type": "code",
   "execution_count": null,
   "metadata": {
    "id": "CSfOFzbnzWyJ",
    "outputId": "2c74e438-5263-4e7a-c238-086343b2c0ad"
   },
   "outputs": [
    {
     "name": "stdout",
     "output_type": "stream",
     "text": [
      "20\n",
      "2\n"
     ]
    }
   ],
   "source": [
    "# create a set\n",
    "set1 = set([5, 10, 3, 15, 2, 20, 10, 5, 4, 3])\n",
    "\n",
    "# maximum value\n",
    "print(max(set1))\n",
    "\n",
    "# minimum value\n",
    "print(min(set1))"
   ]
  },
  {
   "cell_type": "markdown",
   "metadata": {
    "id": "S1proRWtzWyL"
   },
   "source": [
    "<table align=\"left\">\n",
    "    <tr>\n",
    "        <td width=\"6%\">\n",
    "            <img src=\"question_icon.png\">\n",
    "        </td>\n",
    "        <td>\n",
    "            <div align=\"left\", style=\"font-size:120%\">\n",
    "                <font color=\"#21618C\">\n",
    "                    <b>99. Write a program to print a dictionary in a table format</b>\n",
    "                </font>\n",
    "            </div>\n",
    "        </td>\n",
    "    </tr>\n",
    "</table>\n",
    "\n"
   ]
  },
  {
   "cell_type": "markdown",
   "metadata": {
    "id": "ijAxCpo8zWyL"
   },
   "source": [
    "**The dictionary is given below:**\n",
    "\n",
    "dict = {'A1':[1, 2, 3], 'A2':[5 , 6, 7], 'A3':[9, 10, 11]}"
   ]
  },
  {
   "cell_type": "code",
   "execution_count": null,
   "metadata": {
    "id": "ciQRKJbjzWyL",
    "outputId": "a0d3ad03-7ebe-4146-f3ad-ab4035b28af8"
   },
   "outputs": [
    {
     "name": "stdout",
     "output_type": "stream",
     "text": [
      "A1 A2 A3\n",
      "1 5 9\n",
      "2 6 10\n",
      "3 7 11\n"
     ]
    }
   ],
   "source": [
    "my_dict = {'A1':[1,2,3], 'A2':[5,6,7], 'A3':[9,10,11]}\n",
    "for row in zip(*([key] + (value) for key, value in sorted(my_dict.items()))):\n",
    "    print(*row)"
   ]
  },
  {
   "cell_type": "markdown",
   "metadata": {
    "id": "s74yW-u8zWyP"
   },
   "source": [
    "**Explanation:** The '*' mark will print the numbers column-wise"
   ]
  },
  {
   "cell_type": "markdown",
   "metadata": {
    "id": "qTI0PGwrzWyP"
   },
   "source": [
    "<table align=\"left\">\n",
    "    <tr>\n",
    "        <td width=\"6%\">\n",
    "            <img src=\"question_icon.png\">\n",
    "        </td>\n",
    "        <td>\n",
    "            <div align=\"left\", style=\"font-size:120%\">\n",
    "                <font color=\"#21618C\">\n",
    "                    <b>100. Write a program to find the numbers which are divisible by 7 and multiple of 5, between 1500 and 2700 (both included) </b>\n",
    "                </font>\n",
    "            </div>\n",
    "        </td>\n",
    "    </tr>\n",
    "</table>\n",
    "\n"
   ]
  },
  {
   "cell_type": "code",
   "execution_count": null,
   "metadata": {
    "id": "mR_JohLWzWyQ",
    "outputId": "2ec73a60-ac92-4da0-8ef1-cee95da329ff"
   },
   "outputs": [
    {
     "name": "stdout",
     "output_type": "stream",
     "text": [
      "1505,1540,1575,1610,1645,1680,1715,1750,1785,1820,1855,1890,1925,1960,1995,2030,2065,2100,2135,2170,2205,2240,2275,2310,2345,2380,2415,2450,2485,2520,2555,2590,2625,2660,2695\n"
     ]
    }
   ],
   "source": [
    "num_lis =[]\n",
    "\n",
    "# use if-statement to check the conditions\n",
    "for x in range(1500, 2701):\n",
    "    if (x%7==0) and (x%5==0):\n",
    "        num_lis.append(str(x))\n",
    "print (','.join(num_lis))"
   ]
  }
 ],
 "metadata": {
  "colab": {
   "name": "Solution - Python Exercise - 100 Questions - ACSE - IITM.ipynb",
   "provenance": []
  },
  "kernelspec": {
   "display_name": "Python 3",
   "language": "python",
   "name": "python3"
  },
  "language_info": {
   "codemirror_mode": {
    "name": "ipython",
    "version": 3
   },
   "file_extension": ".py",
   "mimetype": "text/x-python",
   "name": "python",
   "nbconvert_exporter": "python",
   "pygments_lexer": "ipython3",
   "version": "3.8.5"
  }
 },
 "nbformat": 4,
 "nbformat_minor": 1
}
