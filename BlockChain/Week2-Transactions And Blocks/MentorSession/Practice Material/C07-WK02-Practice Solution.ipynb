{
 "cells": [
  {
   "cell_type": "code",
   "execution_count": 1,
   "id": "f3e171a3",
   "metadata": {},
   "outputs": [
    {
     "name": "stdout",
     "output_type": "stream",
     "text": [
      "Requirement already satisfied: cryptography in c:\\users\\amrita mathur\\anaconda3\\lib\\site-packages (3.4.8)\n",
      "Requirement already satisfied: cffi>=1.12 in c:\\users\\amrita mathur\\anaconda3\\lib\\site-packages (from cryptography) (1.15.0)\n",
      "Requirement already satisfied: pycparser in c:\\users\\amrita mathur\\anaconda3\\lib\\site-packages (from cffi>=1.12->cryptography) (2.21)\n",
      "Note: you may need to restart the kernel to use updated packages.\n"
     ]
    }
   ],
   "source": [
    "pip install cryptography\n"
   ]
  },
  {
   "cell_type": "code",
   "execution_count": 9,
   "id": "7cbdd675",
   "metadata": {},
   "outputs": [
    {
     "name": "stdout",
     "output_type": "stream",
     "text": [
      "<cryptography.hazmat.backends.openssl.rsa._RSAPrivateKey object at 0x0000022BA85FAD00>\n"
     ]
    }
   ],
   "source": [
    "from cryptography.hazmat.primitives.asymmetric import rsa\n",
    "from cryptography.hazmat.primitives.asymmetric import padding\n",
    "from cryptography.hazmat.primitives import hashes\n",
    "\n",
    "Bob_private_key = rsa.generate_private_key(\n",
    "        public_exponent=65537,\n",
    "        key_size=2048\n",
    ")\n",
    "\n",
    "Alice_private_key = rsa.generate_private_key(\n",
    "        public_exponent=65537,\n",
    "        key_size=2048\n",
    ")\n",
    "\n",
    "print(Alice_private_key)"
   ]
  },
  {
   "cell_type": "code",
   "execution_count": 15,
   "id": "f303a5c7",
   "metadata": {},
   "outputs": [
    {
     "name": "stdout",
     "output_type": "stream",
     "text": [
      "<cryptography.hazmat.backends.openssl.rsa._RSAPublicKey object at 0x0000022BA88720D0>\n",
      "<cryptography.hazmat.backends.openssl.rsa._RSAPublicKey object at 0x0000022BA8801880>\n"
     ]
    }
   ],
   "source": [
    "Bob_public_key = Bob_private_key.public_key()\n",
    "print(Bob_public_key)\n",
    "Alice_public_key = Alice_private_key.public_key()\n",
    "print(Alice_public_key)"
   ]
  },
  {
   "cell_type": "code",
   "execution_count": 21,
   "id": "ff9fa1aa",
   "metadata": {},
   "outputs": [
    {
     "name": "stdout",
     "output_type": "stream",
     "text": [
      "b'E\\xf4\\x9b\\t\\xbfzPr\\x8d\\xbf\\x04\\xe2\\xca\\xc5[\\x00\\xa7\\x03\\xcd\\xc7\\xb8J\\x8d,\\x17\\xf2B\\xa6n\\xd0\\x00\\x8a\\xee\\xa5c6\\x00\\x96\\xb6 \\xb8B\\xf0b\\xa8ylR\\x16\\x82J\\xf4\\xbd\\xa5F\\xef\\xef\\xfc\\xb9[\\xbb\\xec\\xee\\xbb\\xd1\\xa5+\\xa6\\xcd\\x805\"\\xe4\\xe0p1K\\xae\\x93\\xa1\\xc1\\xb7\\xcdb\\xd4\\x83q\\x0c7b9&^\\xd0l\\x01\\x17\\xc4\\xb1*\\xb2\\xd8\\xa3@~\\xbd;\\x16\\xc6Fa\\xf1A?\\xa4\\xd5\\xab\\xceD\\x89iO)\\xd8V3\\xe6\\xfd\\xfck&\\xe5%\\x85\\x9f~t\\xf2\\xe9C([U\\xdf\\xd0)gd\\x04\\xd7\\xdaS\\xb8:85\\x99\\x9c\\xbf\\xca\\xc9D`\\x12\\xf9;\\x99\\xf0\\xdc\\xc5\\xf9\\x8c\\xa1|\\xcd\\xb3\\xca\\r\\x1f\\\\O\\xeb\\'c$\\xfd!\\x01\\x8de(\\xf1\\x84\\xd5\\xbf\\x17q)\\xbf\\x8b\\xde\\xf2\\r\\xff\\xe7\\xcdJ\\x0c\\xee\\x84\\\\\\xb8T2\\xaav~\\xf95Y\\xeeA\\xc3\\x0e(g\\xbd\\xc3\\xbd\\r\\x84b\\xeae\\x1e\\xe2\\x9c\\xa2\\x1a\\xa7\\xad\\xd9\\xd6\\xd1\\xe1H8\\xb0\\x815`\\x98!^He'\n"
     ]
    }
   ],
   "source": [
    "secret_message = 'This is a secret message for Bob.'\n",
    "encrypted_message_for_Bob = Bob_public_key.encrypt(\n",
    "    secret_message.encode(),\n",
    "    padding.OAEP(\n",
    "        mgf=padding.MGF1(algorithm=hashes.SHA256()),\n",
    "        algorithm=hashes.SHA256(),\n",
    "        label=None\n",
    "    )\n",
    ")\n",
    "print(encrypted_message_for_Bob)"
   ]
  },
  {
   "cell_type": "code",
   "execution_count": 23,
   "id": "ea6c4cb0",
   "metadata": {},
   "outputs": [
    {
     "name": "stdout",
     "output_type": "stream",
     "text": [
      "b\"[\\xac\\r)\\xd2\\xb0Di8[\\x04\\x11\\n\\xf00'\\x83\\x91\\xc0=4\\xeb%&R\\xf0\\xb1\\xed \\xb1\\xb3\\x1au\\xbfxw\\x00k\\xd2\\x15\\x91j\\xd4\\xa3\\xc1\\xe4g\\x83E\\xc9bl\\xec\\xdd\\xffj\\xaf\\x0f\\xc8\\xcf\\t\\x8e\\x02|\\xf6\\x92\\xc2#\\xf1\\xd4_U\\xac5\\xaep&\\x05\\x89t\\x96\\xb0\\xfc<\\x1d`n\\t\\xfc\\xdb\\xfaP\\x142\\x8b\\x11\\xdf\\x15? yA\\xdc\\xbfQ_%\\x1f\\xe8JH\\x1a\\xacc\\xf1;\\x87L\\xfc\\xbe}\\x94T\\x81\\xb6x\\xa0K\\x89\\xf1\\x01\\xc7&\\x8a\\xeb\\x0cZ-Q\\xef;P\\xb5A\\xcdvp\\xdc\\xaa\\xce\\x8cNe\\x99\\xcf\\x9b\\xc6\\xc2%*\\xe6 \\xfe\\xdc\\xb2\\\\D\\xbf+-\\xc7\\xf4A\\xfeb\\xf5Ba\\xb1\\x88>\\x00?\\xc6m\\xdd\\x02\\xa5[>\\xaa\\xd9\\xcaD\\x7f\\t0\\x95\\xee\\x80|f\\x9fA\\x1b\\xd4\\x9c\\x80\\xdb\\x803D\\x90n\\xf2R\\xf0\\x14C\\x82\\xb4\\x8e\\xbd.FQ\\xa0G\\xd1g\\x9e\\x93[\\xed8\\xc0\\xabIT5\\x9d\\x05\\x98\\x08\\x0e\\xe9\\xe0'\\x8d\\xb9\\x8d\\x87\\n\\xe7\\xf4|\"\n"
     ]
    }
   ],
   "source": [
    "\n",
    "signature = Alice_private_key.sign(\n",
    "    encrypted_message_for_Bob,\n",
    "    padding.PSS(\n",
    "        mgf=padding.MGF1(hashes.SHA256()),\n",
    "        salt_length=padding.PSS.MAX_LENGTH\n",
    "    ),\n",
    "    hashes.SHA256()\n",
    ")\n",
    "print(signature)"
   ]
  },
  {
   "cell_type": "code",
   "execution_count": 25,
   "id": "5800c308",
   "metadata": {},
   "outputs": [
    {
     "name": "stdout",
     "output_type": "stream",
     "text": [
      "None\n"
     ]
    }
   ],
   "source": [
    "result = Alice_public_key.verify(\n",
    "    signature,\n",
    "    encrypted_message_for_Bob,\n",
    "    padding.PSS(\n",
    "        mgf=padding.MGF1(hashes.SHA256()),\n",
    "        salt_length=padding.PSS.MAX_LENGTH\n",
    "    ),\n",
    "    hashes.SHA256()\n",
    ")\n",
    "\n",
    "print(result)"
   ]
  },
  {
   "cell_type": "code",
   "execution_count": 27,
   "id": "3b42889d",
   "metadata": {},
   "outputs": [
    {
     "name": "stdout",
     "output_type": "stream",
     "text": [
      "b'This is a secret message for Bob.'\n"
     ]
    }
   ],
   "source": [
    "decrypted_message_for_Bob = Bob_private_key.decrypt(\n",
    "    encrypted_message_for_Bob,\n",
    "    padding.OAEP(\n",
    "        mgf=padding.MGF1(algorithm=hashes.SHA256()),\n",
    "        algorithm=hashes.SHA256(),\n",
    "        label=None\n",
    "    )\n",
    ")\n",
    "print (decrypted_message_for_Bob)"
   ]
  },
  {
   "cell_type": "code",
   "execution_count": null,
   "id": "60e261de",
   "metadata": {},
   "outputs": [],
   "source": []
  }
 ],
 "metadata": {
  "kernelspec": {
   "display_name": "Python 3 (ipykernel)",
   "language": "python",
   "name": "python3"
  },
  "language_info": {
   "codemirror_mode": {
    "name": "ipython",
    "version": 3
   },
   "file_extension": ".py",
   "mimetype": "text/x-python",
   "name": "python",
   "nbconvert_exporter": "python",
   "pygments_lexer": "ipython3",
   "version": "3.9.12"
  }
 },
 "nbformat": 4,
 "nbformat_minor": 5
}
